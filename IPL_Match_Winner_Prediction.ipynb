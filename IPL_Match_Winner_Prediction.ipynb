{
 "cells": [
  {
   "cell_type": "code",
   "execution_count": 16,
   "id": "4262f85b",
   "metadata": {},
   "outputs": [],
   "source": [
    "import pandas as pd\n",
    "import numpy as np\n",
    "import matplotlib.pyplot as plt\n",
    "import warnings\n",
    "warnings.filterwarnings('ignore')"
   ]
  },
  {
   "cell_type": "code",
   "execution_count": 17,
   "id": "bacea11a",
   "metadata": {},
   "outputs": [
    {
     "data": {
      "text/html": [
       "<div>\n",
       "<style scoped>\n",
       "    .dataframe tbody tr th:only-of-type {\n",
       "        vertical-align: middle;\n",
       "    }\n",
       "\n",
       "    .dataframe tbody tr th {\n",
       "        vertical-align: top;\n",
       "    }\n",
       "\n",
       "    .dataframe thead th {\n",
       "        text-align: right;\n",
       "    }\n",
       "</style>\n",
       "<table border=\"1\" class=\"dataframe\">\n",
       "  <thead>\n",
       "    <tr style=\"text-align: right;\">\n",
       "      <th></th>\n",
       "      <th>id</th>\n",
       "      <th>season</th>\n",
       "      <th>city</th>\n",
       "      <th>date</th>\n",
       "      <th>team1</th>\n",
       "      <th>team2</th>\n",
       "      <th>toss_winner</th>\n",
       "      <th>toss_decision</th>\n",
       "      <th>result</th>\n",
       "      <th>dl_applied</th>\n",
       "      <th>winner</th>\n",
       "      <th>win_by_runs</th>\n",
       "      <th>win_by_wickets</th>\n",
       "      <th>player_of_match</th>\n",
       "      <th>venue</th>\n",
       "      <th>umpire1</th>\n",
       "      <th>umpire2</th>\n",
       "      <th>umpire3</th>\n",
       "    </tr>\n",
       "  </thead>\n",
       "  <tbody>\n",
       "    <tr>\n",
       "      <th>0</th>\n",
       "      <td>1</td>\n",
       "      <td>2017</td>\n",
       "      <td>Hyderabad</td>\n",
       "      <td>2017-04-05</td>\n",
       "      <td>Sunrisers Hyderabad</td>\n",
       "      <td>Royal Challengers Bangalore</td>\n",
       "      <td>Royal Challengers Bangalore</td>\n",
       "      <td>field</td>\n",
       "      <td>normal</td>\n",
       "      <td>0</td>\n",
       "      <td>Sunrisers Hyderabad</td>\n",
       "      <td>35</td>\n",
       "      <td>0</td>\n",
       "      <td>Yuvraj Singh</td>\n",
       "      <td>Rajiv Gandhi International Stadium, Uppal</td>\n",
       "      <td>AY Dandekar</td>\n",
       "      <td>NJ Llong</td>\n",
       "      <td>NaN</td>\n",
       "    </tr>\n",
       "    <tr>\n",
       "      <th>1</th>\n",
       "      <td>2</td>\n",
       "      <td>2017</td>\n",
       "      <td>Pune</td>\n",
       "      <td>2017-04-06</td>\n",
       "      <td>Mumbai Indians</td>\n",
       "      <td>Rising Pune Supergiant</td>\n",
       "      <td>Rising Pune Supergiant</td>\n",
       "      <td>field</td>\n",
       "      <td>normal</td>\n",
       "      <td>0</td>\n",
       "      <td>Rising Pune Supergiant</td>\n",
       "      <td>0</td>\n",
       "      <td>7</td>\n",
       "      <td>SPD Smith</td>\n",
       "      <td>Maharashtra Cricket Association Stadium</td>\n",
       "      <td>A Nand Kishore</td>\n",
       "      <td>S Ravi</td>\n",
       "      <td>NaN</td>\n",
       "    </tr>\n",
       "    <tr>\n",
       "      <th>2</th>\n",
       "      <td>3</td>\n",
       "      <td>2017</td>\n",
       "      <td>Rajkot</td>\n",
       "      <td>2017-04-07</td>\n",
       "      <td>Gujarat Lions</td>\n",
       "      <td>Kolkata Knight Riders</td>\n",
       "      <td>Kolkata Knight Riders</td>\n",
       "      <td>field</td>\n",
       "      <td>normal</td>\n",
       "      <td>0</td>\n",
       "      <td>Kolkata Knight Riders</td>\n",
       "      <td>0</td>\n",
       "      <td>10</td>\n",
       "      <td>CA Lynn</td>\n",
       "      <td>Saurashtra Cricket Association Stadium</td>\n",
       "      <td>Nitin Menon</td>\n",
       "      <td>CK Nandan</td>\n",
       "      <td>NaN</td>\n",
       "    </tr>\n",
       "    <tr>\n",
       "      <th>3</th>\n",
       "      <td>4</td>\n",
       "      <td>2017</td>\n",
       "      <td>Indore</td>\n",
       "      <td>2017-04-08</td>\n",
       "      <td>Rising Pune Supergiant</td>\n",
       "      <td>Kings XI Punjab</td>\n",
       "      <td>Kings XI Punjab</td>\n",
       "      <td>field</td>\n",
       "      <td>normal</td>\n",
       "      <td>0</td>\n",
       "      <td>Kings XI Punjab</td>\n",
       "      <td>0</td>\n",
       "      <td>6</td>\n",
       "      <td>GJ Maxwell</td>\n",
       "      <td>Holkar Cricket Stadium</td>\n",
       "      <td>AK Chaudhary</td>\n",
       "      <td>C Shamshuddin</td>\n",
       "      <td>NaN</td>\n",
       "    </tr>\n",
       "    <tr>\n",
       "      <th>4</th>\n",
       "      <td>5</td>\n",
       "      <td>2017</td>\n",
       "      <td>Bangalore</td>\n",
       "      <td>2017-04-08</td>\n",
       "      <td>Royal Challengers Bangalore</td>\n",
       "      <td>Delhi Daredevils</td>\n",
       "      <td>Royal Challengers Bangalore</td>\n",
       "      <td>bat</td>\n",
       "      <td>normal</td>\n",
       "      <td>0</td>\n",
       "      <td>Royal Challengers Bangalore</td>\n",
       "      <td>15</td>\n",
       "      <td>0</td>\n",
       "      <td>KM Jadhav</td>\n",
       "      <td>M Chinnaswamy Stadium</td>\n",
       "      <td>NaN</td>\n",
       "      <td>NaN</td>\n",
       "      <td>NaN</td>\n",
       "    </tr>\n",
       "    <tr>\n",
       "      <th>...</th>\n",
       "      <td>...</td>\n",
       "      <td>...</td>\n",
       "      <td>...</td>\n",
       "      <td>...</td>\n",
       "      <td>...</td>\n",
       "      <td>...</td>\n",
       "      <td>...</td>\n",
       "      <td>...</td>\n",
       "      <td>...</td>\n",
       "      <td>...</td>\n",
       "      <td>...</td>\n",
       "      <td>...</td>\n",
       "      <td>...</td>\n",
       "      <td>...</td>\n",
       "      <td>...</td>\n",
       "      <td>...</td>\n",
       "      <td>...</td>\n",
       "      <td>...</td>\n",
       "    </tr>\n",
       "    <tr>\n",
       "      <th>751</th>\n",
       "      <td>11347</td>\n",
       "      <td>2019</td>\n",
       "      <td>Mumbai</td>\n",
       "      <td>05/05/19</td>\n",
       "      <td>Kolkata Knight Riders</td>\n",
       "      <td>Mumbai Indians</td>\n",
       "      <td>Mumbai Indians</td>\n",
       "      <td>field</td>\n",
       "      <td>normal</td>\n",
       "      <td>0</td>\n",
       "      <td>Mumbai Indians</td>\n",
       "      <td>0</td>\n",
       "      <td>9</td>\n",
       "      <td>HH Pandya</td>\n",
       "      <td>Wankhede Stadium</td>\n",
       "      <td>Nanda Kishore</td>\n",
       "      <td>O Nandan</td>\n",
       "      <td>S Ravi</td>\n",
       "    </tr>\n",
       "    <tr>\n",
       "      <th>752</th>\n",
       "      <td>11412</td>\n",
       "      <td>2019</td>\n",
       "      <td>Chennai</td>\n",
       "      <td>07/05/19</td>\n",
       "      <td>Chennai Super Kings</td>\n",
       "      <td>Mumbai Indians</td>\n",
       "      <td>Chennai Super Kings</td>\n",
       "      <td>bat</td>\n",
       "      <td>normal</td>\n",
       "      <td>0</td>\n",
       "      <td>Mumbai Indians</td>\n",
       "      <td>0</td>\n",
       "      <td>6</td>\n",
       "      <td>AS Yadav</td>\n",
       "      <td>M. A. Chidambaram Stadium</td>\n",
       "      <td>Nigel Llong</td>\n",
       "      <td>Nitin Menon</td>\n",
       "      <td>Ian Gould</td>\n",
       "    </tr>\n",
       "    <tr>\n",
       "      <th>753</th>\n",
       "      <td>11413</td>\n",
       "      <td>2019</td>\n",
       "      <td>Visakhapatnam</td>\n",
       "      <td>08/05/19</td>\n",
       "      <td>Sunrisers Hyderabad</td>\n",
       "      <td>Delhi Capitals</td>\n",
       "      <td>Delhi Capitals</td>\n",
       "      <td>field</td>\n",
       "      <td>normal</td>\n",
       "      <td>0</td>\n",
       "      <td>Delhi Capitals</td>\n",
       "      <td>0</td>\n",
       "      <td>2</td>\n",
       "      <td>RR Pant</td>\n",
       "      <td>ACA-VDCA Stadium</td>\n",
       "      <td>NaN</td>\n",
       "      <td>NaN</td>\n",
       "      <td>NaN</td>\n",
       "    </tr>\n",
       "    <tr>\n",
       "      <th>754</th>\n",
       "      <td>11414</td>\n",
       "      <td>2019</td>\n",
       "      <td>Visakhapatnam</td>\n",
       "      <td>10/05/19</td>\n",
       "      <td>Delhi Capitals</td>\n",
       "      <td>Chennai Super Kings</td>\n",
       "      <td>Chennai Super Kings</td>\n",
       "      <td>field</td>\n",
       "      <td>normal</td>\n",
       "      <td>0</td>\n",
       "      <td>Chennai Super Kings</td>\n",
       "      <td>0</td>\n",
       "      <td>6</td>\n",
       "      <td>F du Plessis</td>\n",
       "      <td>ACA-VDCA Stadium</td>\n",
       "      <td>Sundaram Ravi</td>\n",
       "      <td>Bruce Oxenford</td>\n",
       "      <td>Chettithody Shamshuddin</td>\n",
       "    </tr>\n",
       "    <tr>\n",
       "      <th>755</th>\n",
       "      <td>11415</td>\n",
       "      <td>2019</td>\n",
       "      <td>Hyderabad</td>\n",
       "      <td>12/05/19</td>\n",
       "      <td>Mumbai Indians</td>\n",
       "      <td>Chennai Super Kings</td>\n",
       "      <td>Mumbai Indians</td>\n",
       "      <td>bat</td>\n",
       "      <td>normal</td>\n",
       "      <td>0</td>\n",
       "      <td>Mumbai Indians</td>\n",
       "      <td>1</td>\n",
       "      <td>0</td>\n",
       "      <td>JJ Bumrah</td>\n",
       "      <td>Rajiv Gandhi Intl. Cricket Stadium</td>\n",
       "      <td>Nitin Menon</td>\n",
       "      <td>Ian Gould</td>\n",
       "      <td>Nigel Llong</td>\n",
       "    </tr>\n",
       "  </tbody>\n",
       "</table>\n",
       "<p>756 rows × 18 columns</p>\n",
       "</div>"
      ],
      "text/plain": [
       "        id  season           city        date                        team1  \\\n",
       "0        1    2017      Hyderabad  2017-04-05          Sunrisers Hyderabad   \n",
       "1        2    2017           Pune  2017-04-06               Mumbai Indians   \n",
       "2        3    2017         Rajkot  2017-04-07                Gujarat Lions   \n",
       "3        4    2017         Indore  2017-04-08       Rising Pune Supergiant   \n",
       "4        5    2017      Bangalore  2017-04-08  Royal Challengers Bangalore   \n",
       "..     ...     ...            ...         ...                          ...   \n",
       "751  11347    2019         Mumbai    05/05/19        Kolkata Knight Riders   \n",
       "752  11412    2019        Chennai    07/05/19          Chennai Super Kings   \n",
       "753  11413    2019  Visakhapatnam    08/05/19          Sunrisers Hyderabad   \n",
       "754  11414    2019  Visakhapatnam    10/05/19               Delhi Capitals   \n",
       "755  11415    2019      Hyderabad    12/05/19               Mumbai Indians   \n",
       "\n",
       "                           team2                  toss_winner toss_decision  \\\n",
       "0    Royal Challengers Bangalore  Royal Challengers Bangalore         field   \n",
       "1         Rising Pune Supergiant       Rising Pune Supergiant         field   \n",
       "2          Kolkata Knight Riders        Kolkata Knight Riders         field   \n",
       "3                Kings XI Punjab              Kings XI Punjab         field   \n",
       "4               Delhi Daredevils  Royal Challengers Bangalore           bat   \n",
       "..                           ...                          ...           ...   \n",
       "751               Mumbai Indians               Mumbai Indians         field   \n",
       "752               Mumbai Indians          Chennai Super Kings           bat   \n",
       "753               Delhi Capitals               Delhi Capitals         field   \n",
       "754          Chennai Super Kings          Chennai Super Kings         field   \n",
       "755          Chennai Super Kings               Mumbai Indians           bat   \n",
       "\n",
       "     result  dl_applied                       winner  win_by_runs  \\\n",
       "0    normal           0          Sunrisers Hyderabad           35   \n",
       "1    normal           0       Rising Pune Supergiant            0   \n",
       "2    normal           0        Kolkata Knight Riders            0   \n",
       "3    normal           0              Kings XI Punjab            0   \n",
       "4    normal           0  Royal Challengers Bangalore           15   \n",
       "..      ...         ...                          ...          ...   \n",
       "751  normal           0               Mumbai Indians            0   \n",
       "752  normal           0               Mumbai Indians            0   \n",
       "753  normal           0               Delhi Capitals            0   \n",
       "754  normal           0          Chennai Super Kings            0   \n",
       "755  normal           0               Mumbai Indians            1   \n",
       "\n",
       "     win_by_wickets player_of_match  \\\n",
       "0                 0    Yuvraj Singh   \n",
       "1                 7       SPD Smith   \n",
       "2                10         CA Lynn   \n",
       "3                 6      GJ Maxwell   \n",
       "4                 0       KM Jadhav   \n",
       "..              ...             ...   \n",
       "751               9       HH Pandya   \n",
       "752               6        AS Yadav   \n",
       "753               2         RR Pant   \n",
       "754               6    F du Plessis   \n",
       "755               0       JJ Bumrah   \n",
       "\n",
       "                                         venue         umpire1  \\\n",
       "0    Rajiv Gandhi International Stadium, Uppal     AY Dandekar   \n",
       "1      Maharashtra Cricket Association Stadium  A Nand Kishore   \n",
       "2       Saurashtra Cricket Association Stadium     Nitin Menon   \n",
       "3                       Holkar Cricket Stadium    AK Chaudhary   \n",
       "4                        M Chinnaswamy Stadium             NaN   \n",
       "..                                         ...             ...   \n",
       "751                           Wankhede Stadium   Nanda Kishore   \n",
       "752                  M. A. Chidambaram Stadium     Nigel Llong   \n",
       "753                           ACA-VDCA Stadium             NaN   \n",
       "754                           ACA-VDCA Stadium   Sundaram Ravi   \n",
       "755         Rajiv Gandhi Intl. Cricket Stadium     Nitin Menon   \n",
       "\n",
       "            umpire2                  umpire3  \n",
       "0          NJ Llong                      NaN  \n",
       "1            S Ravi                      NaN  \n",
       "2         CK Nandan                      NaN  \n",
       "3     C Shamshuddin                      NaN  \n",
       "4               NaN                      NaN  \n",
       "..              ...                      ...  \n",
       "751        O Nandan                   S Ravi  \n",
       "752     Nitin Menon                Ian Gould  \n",
       "753             NaN                      NaN  \n",
       "754  Bruce Oxenford  Chettithody Shamshuddin  \n",
       "755       Ian Gould              Nigel Llong  \n",
       "\n",
       "[756 rows x 18 columns]"
      ]
     },
     "execution_count": 17,
     "metadata": {},
     "output_type": "execute_result"
    }
   ],
   "source": [
    "matches_df=pd.read_csv(\"ipl matches 2008-2020 datasheet.csv\")\n",
    "matches_df"
   ]
  },
  {
   "cell_type": "code",
   "execution_count": 18,
   "id": "fb73e594",
   "metadata": {},
   "outputs": [
    {
     "name": "stdout",
     "output_type": "stream",
     "text": [
      "<class 'pandas.core.frame.DataFrame'>\n",
      "RangeIndex: 756 entries, 0 to 755\n",
      "Data columns (total 18 columns):\n",
      " #   Column           Non-Null Count  Dtype \n",
      "---  ------           --------------  ----- \n",
      " 0   id               756 non-null    int64 \n",
      " 1   season           756 non-null    int64 \n",
      " 2   city             749 non-null    object\n",
      " 3   date             756 non-null    object\n",
      " 4   team1            756 non-null    object\n",
      " 5   team2            756 non-null    object\n",
      " 6   toss_winner      756 non-null    object\n",
      " 7   toss_decision    756 non-null    object\n",
      " 8   result           756 non-null    object\n",
      " 9   dl_applied       756 non-null    int64 \n",
      " 10  winner           752 non-null    object\n",
      " 11  win_by_runs      756 non-null    int64 \n",
      " 12  win_by_wickets   756 non-null    int64 \n",
      " 13  player_of_match  752 non-null    object\n",
      " 14  venue            756 non-null    object\n",
      " 15  umpire1          754 non-null    object\n",
      " 16  umpire2          754 non-null    object\n",
      " 17  umpire3          119 non-null    object\n",
      "dtypes: int64(5), object(13)\n",
      "memory usage: 106.4+ KB\n"
     ]
    }
   ],
   "source": [
    "matches_df.info()"
   ]
  },
  {
   "cell_type": "code",
   "execution_count": 19,
   "id": "f7bb4d3d",
   "metadata": {},
   "outputs": [
    {
     "data": {
      "text/plain": [
       "id                 False\n",
       "season             False\n",
       "city                True\n",
       "date               False\n",
       "team1              False\n",
       "team2              False\n",
       "toss_winner        False\n",
       "toss_decision      False\n",
       "result             False\n",
       "dl_applied         False\n",
       "winner              True\n",
       "win_by_runs        False\n",
       "win_by_wickets     False\n",
       "player_of_match     True\n",
       "venue              False\n",
       "umpire1             True\n",
       "umpire2             True\n",
       "umpire3             True\n",
       "dtype: bool"
      ]
     },
     "execution_count": 19,
     "metadata": {},
     "output_type": "execute_result"
    }
   ],
   "source": [
    "matches_df.isna().any()"
   ]
  },
  {
   "cell_type": "code",
   "execution_count": 20,
   "id": "1b564b2e",
   "metadata": {},
   "outputs": [
    {
     "data": {
      "text/html": [
       "<div>\n",
       "<style scoped>\n",
       "    .dataframe tbody tr th:only-of-type {\n",
       "        vertical-align: middle;\n",
       "    }\n",
       "\n",
       "    .dataframe tbody tr th {\n",
       "        vertical-align: top;\n",
       "    }\n",
       "\n",
       "    .dataframe thead th {\n",
       "        text-align: right;\n",
       "    }\n",
       "</style>\n",
       "<table border=\"1\" class=\"dataframe\">\n",
       "  <thead>\n",
       "    <tr style=\"text-align: right;\">\n",
       "      <th></th>\n",
       "      <th>id</th>\n",
       "      <th>season</th>\n",
       "      <th>city</th>\n",
       "      <th>date</th>\n",
       "      <th>team1</th>\n",
       "      <th>team2</th>\n",
       "      <th>toss_winner</th>\n",
       "      <th>toss_decision</th>\n",
       "      <th>result</th>\n",
       "      <th>dl_applied</th>\n",
       "      <th>winner</th>\n",
       "      <th>win_by_runs</th>\n",
       "      <th>win_by_wickets</th>\n",
       "      <th>player_of_match</th>\n",
       "      <th>venue</th>\n",
       "      <th>umpire1</th>\n",
       "      <th>umpire2</th>\n",
       "      <th>umpire3</th>\n",
       "    </tr>\n",
       "  </thead>\n",
       "  <tbody>\n",
       "    <tr>\n",
       "      <th>461</th>\n",
       "      <td>462</td>\n",
       "      <td>2014</td>\n",
       "      <td>NaN</td>\n",
       "      <td>2014-04-19</td>\n",
       "      <td>Mumbai Indians</td>\n",
       "      <td>Royal Challengers Bangalore</td>\n",
       "      <td>Royal Challengers Bangalore</td>\n",
       "      <td>field</td>\n",
       "      <td>normal</td>\n",
       "      <td>0</td>\n",
       "      <td>Royal Challengers Bangalore</td>\n",
       "      <td>0</td>\n",
       "      <td>7</td>\n",
       "      <td>PA Patel</td>\n",
       "      <td>Dubai International Cricket Stadium</td>\n",
       "      <td>Aleem Dar</td>\n",
       "      <td>AK Chaudhary</td>\n",
       "      <td>NaN</td>\n",
       "    </tr>\n",
       "    <tr>\n",
       "      <th>462</th>\n",
       "      <td>463</td>\n",
       "      <td>2014</td>\n",
       "      <td>NaN</td>\n",
       "      <td>2014-04-19</td>\n",
       "      <td>Kolkata Knight Riders</td>\n",
       "      <td>Delhi Daredevils</td>\n",
       "      <td>Kolkata Knight Riders</td>\n",
       "      <td>bat</td>\n",
       "      <td>normal</td>\n",
       "      <td>0</td>\n",
       "      <td>Delhi Daredevils</td>\n",
       "      <td>0</td>\n",
       "      <td>4</td>\n",
       "      <td>JP Duminy</td>\n",
       "      <td>Dubai International Cricket Stadium</td>\n",
       "      <td>Aleem Dar</td>\n",
       "      <td>VA Kulkarni</td>\n",
       "      <td>NaN</td>\n",
       "    </tr>\n",
       "    <tr>\n",
       "      <th>466</th>\n",
       "      <td>467</td>\n",
       "      <td>2014</td>\n",
       "      <td>NaN</td>\n",
       "      <td>2014-04-23</td>\n",
       "      <td>Chennai Super Kings</td>\n",
       "      <td>Rajasthan Royals</td>\n",
       "      <td>Rajasthan Royals</td>\n",
       "      <td>field</td>\n",
       "      <td>normal</td>\n",
       "      <td>0</td>\n",
       "      <td>Chennai Super Kings</td>\n",
       "      <td>7</td>\n",
       "      <td>0</td>\n",
       "      <td>RA Jadeja</td>\n",
       "      <td>Dubai International Cricket Stadium</td>\n",
       "      <td>HDPK Dharmasena</td>\n",
       "      <td>RK Illingworth</td>\n",
       "      <td>NaN</td>\n",
       "    </tr>\n",
       "    <tr>\n",
       "      <th>468</th>\n",
       "      <td>469</td>\n",
       "      <td>2014</td>\n",
       "      <td>NaN</td>\n",
       "      <td>2014-04-25</td>\n",
       "      <td>Sunrisers Hyderabad</td>\n",
       "      <td>Delhi Daredevils</td>\n",
       "      <td>Sunrisers Hyderabad</td>\n",
       "      <td>bat</td>\n",
       "      <td>normal</td>\n",
       "      <td>0</td>\n",
       "      <td>Sunrisers Hyderabad</td>\n",
       "      <td>4</td>\n",
       "      <td>0</td>\n",
       "      <td>AJ Finch</td>\n",
       "      <td>Dubai International Cricket Stadium</td>\n",
       "      <td>M Erasmus</td>\n",
       "      <td>S Ravi</td>\n",
       "      <td>NaN</td>\n",
       "    </tr>\n",
       "    <tr>\n",
       "      <th>469</th>\n",
       "      <td>470</td>\n",
       "      <td>2014</td>\n",
       "      <td>NaN</td>\n",
       "      <td>2014-04-25</td>\n",
       "      <td>Mumbai Indians</td>\n",
       "      <td>Chennai Super Kings</td>\n",
       "      <td>Mumbai Indians</td>\n",
       "      <td>bat</td>\n",
       "      <td>normal</td>\n",
       "      <td>0</td>\n",
       "      <td>Chennai Super Kings</td>\n",
       "      <td>0</td>\n",
       "      <td>7</td>\n",
       "      <td>MM Sharma</td>\n",
       "      <td>Dubai International Cricket Stadium</td>\n",
       "      <td>BF Bowden</td>\n",
       "      <td>M Erasmus</td>\n",
       "      <td>NaN</td>\n",
       "    </tr>\n",
       "    <tr>\n",
       "      <th>474</th>\n",
       "      <td>475</td>\n",
       "      <td>2014</td>\n",
       "      <td>NaN</td>\n",
       "      <td>2014-04-28</td>\n",
       "      <td>Royal Challengers Bangalore</td>\n",
       "      <td>Kings XI Punjab</td>\n",
       "      <td>Kings XI Punjab</td>\n",
       "      <td>field</td>\n",
       "      <td>normal</td>\n",
       "      <td>0</td>\n",
       "      <td>Kings XI Punjab</td>\n",
       "      <td>0</td>\n",
       "      <td>5</td>\n",
       "      <td>Sandeep Sharma</td>\n",
       "      <td>Dubai International Cricket Stadium</td>\n",
       "      <td>BF Bowden</td>\n",
       "      <td>S Ravi</td>\n",
       "      <td>NaN</td>\n",
       "    </tr>\n",
       "    <tr>\n",
       "      <th>476</th>\n",
       "      <td>477</td>\n",
       "      <td>2014</td>\n",
       "      <td>NaN</td>\n",
       "      <td>2014-04-30</td>\n",
       "      <td>Sunrisers Hyderabad</td>\n",
       "      <td>Mumbai Indians</td>\n",
       "      <td>Mumbai Indians</td>\n",
       "      <td>field</td>\n",
       "      <td>normal</td>\n",
       "      <td>0</td>\n",
       "      <td>Sunrisers Hyderabad</td>\n",
       "      <td>15</td>\n",
       "      <td>0</td>\n",
       "      <td>B Kumar</td>\n",
       "      <td>Dubai International Cricket Stadium</td>\n",
       "      <td>HDPK Dharmasena</td>\n",
       "      <td>M Erasmus</td>\n",
       "      <td>NaN</td>\n",
       "    </tr>\n",
       "  </tbody>\n",
       "</table>\n",
       "</div>"
      ],
      "text/plain": [
       "      id  season city        date                        team1  \\\n",
       "461  462    2014  NaN  2014-04-19               Mumbai Indians   \n",
       "462  463    2014  NaN  2014-04-19        Kolkata Knight Riders   \n",
       "466  467    2014  NaN  2014-04-23          Chennai Super Kings   \n",
       "468  469    2014  NaN  2014-04-25          Sunrisers Hyderabad   \n",
       "469  470    2014  NaN  2014-04-25               Mumbai Indians   \n",
       "474  475    2014  NaN  2014-04-28  Royal Challengers Bangalore   \n",
       "476  477    2014  NaN  2014-04-30          Sunrisers Hyderabad   \n",
       "\n",
       "                           team2                  toss_winner toss_decision  \\\n",
       "461  Royal Challengers Bangalore  Royal Challengers Bangalore         field   \n",
       "462             Delhi Daredevils        Kolkata Knight Riders           bat   \n",
       "466             Rajasthan Royals             Rajasthan Royals         field   \n",
       "468             Delhi Daredevils          Sunrisers Hyderabad           bat   \n",
       "469          Chennai Super Kings               Mumbai Indians           bat   \n",
       "474              Kings XI Punjab              Kings XI Punjab         field   \n",
       "476               Mumbai Indians               Mumbai Indians         field   \n",
       "\n",
       "     result  dl_applied                       winner  win_by_runs  \\\n",
       "461  normal           0  Royal Challengers Bangalore            0   \n",
       "462  normal           0             Delhi Daredevils            0   \n",
       "466  normal           0          Chennai Super Kings            7   \n",
       "468  normal           0          Sunrisers Hyderabad            4   \n",
       "469  normal           0          Chennai Super Kings            0   \n",
       "474  normal           0              Kings XI Punjab            0   \n",
       "476  normal           0          Sunrisers Hyderabad           15   \n",
       "\n",
       "     win_by_wickets player_of_match                                venue  \\\n",
       "461               7        PA Patel  Dubai International Cricket Stadium   \n",
       "462               4       JP Duminy  Dubai International Cricket Stadium   \n",
       "466               0       RA Jadeja  Dubai International Cricket Stadium   \n",
       "468               0        AJ Finch  Dubai International Cricket Stadium   \n",
       "469               7       MM Sharma  Dubai International Cricket Stadium   \n",
       "474               5  Sandeep Sharma  Dubai International Cricket Stadium   \n",
       "476               0         B Kumar  Dubai International Cricket Stadium   \n",
       "\n",
       "             umpire1         umpire2 umpire3  \n",
       "461        Aleem Dar    AK Chaudhary     NaN  \n",
       "462        Aleem Dar     VA Kulkarni     NaN  \n",
       "466  HDPK Dharmasena  RK Illingworth     NaN  \n",
       "468        M Erasmus          S Ravi     NaN  \n",
       "469        BF Bowden       M Erasmus     NaN  \n",
       "474        BF Bowden          S Ravi     NaN  \n",
       "476  HDPK Dharmasena       M Erasmus     NaN  "
      ]
     },
     "execution_count": 20,
     "metadata": {},
     "output_type": "execute_result"
    }
   ],
   "source": [
    "matches_df[matches_df['city'].isnull()==True]"
   ]
  },
  {
   "cell_type": "code",
   "execution_count": 21,
   "id": "849a01c0",
   "metadata": {},
   "outputs": [
    {
     "name": "stdout",
     "output_type": "stream",
     "text": [
      "<class 'pandas.core.frame.DataFrame'>\n",
      "RangeIndex: 756 entries, 0 to 755\n",
      "Data columns (total 18 columns):\n",
      " #   Column           Non-Null Count  Dtype \n",
      "---  ------           --------------  ----- \n",
      " 0   id               756 non-null    int64 \n",
      " 1   season           756 non-null    int64 \n",
      " 2   city             756 non-null    object\n",
      " 3   date             756 non-null    object\n",
      " 4   team1            756 non-null    object\n",
      " 5   team2            756 non-null    object\n",
      " 6   toss_winner      756 non-null    object\n",
      " 7   toss_decision    756 non-null    object\n",
      " 8   result           756 non-null    object\n",
      " 9   dl_applied       756 non-null    int64 \n",
      " 10  winner           752 non-null    object\n",
      " 11  win_by_runs      756 non-null    int64 \n",
      " 12  win_by_wickets   756 non-null    int64 \n",
      " 13  player_of_match  752 non-null    object\n",
      " 14  venue            756 non-null    object\n",
      " 15  umpire1          754 non-null    object\n",
      " 16  umpire2          754 non-null    object\n",
      " 17  umpire3          119 non-null    object\n",
      "dtypes: int64(5), object(13)\n",
      "memory usage: 106.4+ KB\n"
     ]
    }
   ],
   "source": [
    "matches_df['city'].fillna('Dubai', inplace=True)\n",
    "matches_df.info()"
   ]
  },
  {
   "cell_type": "code",
   "execution_count": 22,
   "id": "10082b1b",
   "metadata": {},
   "outputs": [
    {
     "data": {
      "text/html": [
       "<div>\n",
       "<style scoped>\n",
       "    .dataframe tbody tr th:only-of-type {\n",
       "        vertical-align: middle;\n",
       "    }\n",
       "\n",
       "    .dataframe tbody tr th {\n",
       "        vertical-align: top;\n",
       "    }\n",
       "\n",
       "    .dataframe thead th {\n",
       "        text-align: right;\n",
       "    }\n",
       "</style>\n",
       "<table border=\"1\" class=\"dataframe\">\n",
       "  <thead>\n",
       "    <tr style=\"text-align: right;\">\n",
       "      <th></th>\n",
       "      <th>id</th>\n",
       "      <th>season</th>\n",
       "      <th>city</th>\n",
       "      <th>date</th>\n",
       "      <th>team1</th>\n",
       "      <th>team2</th>\n",
       "      <th>toss_winner</th>\n",
       "      <th>toss_decision</th>\n",
       "      <th>result</th>\n",
       "      <th>dl_applied</th>\n",
       "      <th>winner</th>\n",
       "      <th>win_by_runs</th>\n",
       "      <th>win_by_wickets</th>\n",
       "      <th>player_of_match</th>\n",
       "      <th>venue</th>\n",
       "      <th>umpire1</th>\n",
       "      <th>umpire2</th>\n",
       "      <th>umpire3</th>\n",
       "    </tr>\n",
       "  </thead>\n",
       "  <tbody>\n",
       "    <tr>\n",
       "      <th>300</th>\n",
       "      <td>301</td>\n",
       "      <td>2011</td>\n",
       "      <td>Delhi</td>\n",
       "      <td>2011-05-21</td>\n",
       "      <td>Delhi Daredevils</td>\n",
       "      <td>Pune Warriors</td>\n",
       "      <td>Delhi Daredevils</td>\n",
       "      <td>bat</td>\n",
       "      <td>no result</td>\n",
       "      <td>0</td>\n",
       "      <td>NaN</td>\n",
       "      <td>0</td>\n",
       "      <td>0</td>\n",
       "      <td>NaN</td>\n",
       "      <td>Feroz Shah Kotla</td>\n",
       "      <td>SS Hazare</td>\n",
       "      <td>RJ Tucker</td>\n",
       "      <td>NaN</td>\n",
       "    </tr>\n",
       "    <tr>\n",
       "      <th>545</th>\n",
       "      <td>546</td>\n",
       "      <td>2015</td>\n",
       "      <td>Bangalore</td>\n",
       "      <td>2015-04-29</td>\n",
       "      <td>Royal Challengers Bangalore</td>\n",
       "      <td>Rajasthan Royals</td>\n",
       "      <td>Rajasthan Royals</td>\n",
       "      <td>field</td>\n",
       "      <td>no result</td>\n",
       "      <td>0</td>\n",
       "      <td>NaN</td>\n",
       "      <td>0</td>\n",
       "      <td>0</td>\n",
       "      <td>NaN</td>\n",
       "      <td>M Chinnaswamy Stadium</td>\n",
       "      <td>JD Cloete</td>\n",
       "      <td>PG Pathak</td>\n",
       "      <td>NaN</td>\n",
       "    </tr>\n",
       "    <tr>\n",
       "      <th>570</th>\n",
       "      <td>571</td>\n",
       "      <td>2015</td>\n",
       "      <td>Bangalore</td>\n",
       "      <td>2015-05-17</td>\n",
       "      <td>Delhi Daredevils</td>\n",
       "      <td>Royal Challengers Bangalore</td>\n",
       "      <td>Royal Challengers Bangalore</td>\n",
       "      <td>field</td>\n",
       "      <td>no result</td>\n",
       "      <td>0</td>\n",
       "      <td>NaN</td>\n",
       "      <td>0</td>\n",
       "      <td>0</td>\n",
       "      <td>NaN</td>\n",
       "      <td>M Chinnaswamy Stadium</td>\n",
       "      <td>HDPK Dharmasena</td>\n",
       "      <td>K Srinivasan</td>\n",
       "      <td>NaN</td>\n",
       "    </tr>\n",
       "    <tr>\n",
       "      <th>744</th>\n",
       "      <td>11340</td>\n",
       "      <td>2019</td>\n",
       "      <td>Bengaluru</td>\n",
       "      <td>30/04/19</td>\n",
       "      <td>Royal Challengers Bangalore</td>\n",
       "      <td>Rajasthan Royals</td>\n",
       "      <td>Rajasthan Royals</td>\n",
       "      <td>field</td>\n",
       "      <td>no result</td>\n",
       "      <td>0</td>\n",
       "      <td>NaN</td>\n",
       "      <td>0</td>\n",
       "      <td>0</td>\n",
       "      <td>NaN</td>\n",
       "      <td>M. Chinnaswamy Stadium</td>\n",
       "      <td>Nigel Llong</td>\n",
       "      <td>Ulhas Gandhe</td>\n",
       "      <td>Anil Chaudhary</td>\n",
       "    </tr>\n",
       "  </tbody>\n",
       "</table>\n",
       "</div>"
      ],
      "text/plain": [
       "        id  season       city        date                        team1  \\\n",
       "300    301    2011      Delhi  2011-05-21             Delhi Daredevils   \n",
       "545    546    2015  Bangalore  2015-04-29  Royal Challengers Bangalore   \n",
       "570    571    2015  Bangalore  2015-05-17             Delhi Daredevils   \n",
       "744  11340    2019  Bengaluru    30/04/19  Royal Challengers Bangalore   \n",
       "\n",
       "                           team2                  toss_winner toss_decision  \\\n",
       "300                Pune Warriors             Delhi Daredevils           bat   \n",
       "545             Rajasthan Royals             Rajasthan Royals         field   \n",
       "570  Royal Challengers Bangalore  Royal Challengers Bangalore         field   \n",
       "744             Rajasthan Royals             Rajasthan Royals         field   \n",
       "\n",
       "        result  dl_applied winner  win_by_runs  win_by_wickets  \\\n",
       "300  no result           0    NaN            0               0   \n",
       "545  no result           0    NaN            0               0   \n",
       "570  no result           0    NaN            0               0   \n",
       "744  no result           0    NaN            0               0   \n",
       "\n",
       "    player_of_match                   venue          umpire1       umpire2  \\\n",
       "300             NaN        Feroz Shah Kotla        SS Hazare     RJ Tucker   \n",
       "545             NaN   M Chinnaswamy Stadium        JD Cloete     PG Pathak   \n",
       "570             NaN   M Chinnaswamy Stadium  HDPK Dharmasena  K Srinivasan   \n",
       "744             NaN  M. Chinnaswamy Stadium      Nigel Llong  Ulhas Gandhe   \n",
       "\n",
       "            umpire3  \n",
       "300             NaN  \n",
       "545             NaN  \n",
       "570             NaN  \n",
       "744  Anil Chaudhary  "
      ]
     },
     "execution_count": 22,
     "metadata": {},
     "output_type": "execute_result"
    }
   ],
   "source": [
    "matches_df[matches_df['winner'].isnull()==True]"
   ]
  },
  {
   "cell_type": "code",
   "execution_count": 23,
   "id": "aab04a0d",
   "metadata": {},
   "outputs": [
    {
     "name": "stdout",
     "output_type": "stream",
     "text": [
      "<class 'pandas.core.frame.DataFrame'>\n",
      "RangeIndex: 756 entries, 0 to 755\n",
      "Data columns (total 18 columns):\n",
      " #   Column           Non-Null Count  Dtype \n",
      "---  ------           --------------  ----- \n",
      " 0   id               756 non-null    int64 \n",
      " 1   season           756 non-null    int64 \n",
      " 2   city             756 non-null    object\n",
      " 3   date             756 non-null    object\n",
      " 4   team1            756 non-null    object\n",
      " 5   team2            756 non-null    object\n",
      " 6   toss_winner      756 non-null    object\n",
      " 7   toss_decision    756 non-null    object\n",
      " 8   result           756 non-null    object\n",
      " 9   dl_applied       756 non-null    int64 \n",
      " 10  winner           756 non-null    object\n",
      " 11  win_by_runs      756 non-null    int64 \n",
      " 12  win_by_wickets   756 non-null    int64 \n",
      " 13  player_of_match  752 non-null    object\n",
      " 14  venue            756 non-null    object\n",
      " 15  umpire1          754 non-null    object\n",
      " 16  umpire2          754 non-null    object\n",
      " 17  umpire3          119 non-null    object\n",
      "dtypes: int64(5), object(13)\n",
      "memory usage: 106.4+ KB\n"
     ]
    }
   ],
   "source": [
    "matches_df['winner'].fillna('Draw', inplace=True)\n",
    "matches_df.info()"
   ]
  },
  {
   "cell_type": "code",
   "execution_count": 24,
   "id": "db9a8154",
   "metadata": {},
   "outputs": [
    {
     "name": "stdout",
     "output_type": "stream",
     "text": [
      "<class 'pandas.core.frame.DataFrame'>\n",
      "RangeIndex: 756 entries, 0 to 755\n",
      "Data columns (total 18 columns):\n",
      " #   Column           Non-Null Count  Dtype \n",
      "---  ------           --------------  ----- \n",
      " 0   id               756 non-null    int64 \n",
      " 1   season           756 non-null    int64 \n",
      " 2   city             756 non-null    object\n",
      " 3   date             756 non-null    object\n",
      " 4   team1            756 non-null    object\n",
      " 5   team2            756 non-null    object\n",
      " 6   toss_winner      756 non-null    object\n",
      " 7   toss_decision    756 non-null    object\n",
      " 8   result           756 non-null    object\n",
      " 9   dl_applied       756 non-null    int64 \n",
      " 10  winner           756 non-null    object\n",
      " 11  win_by_runs      756 non-null    int64 \n",
      " 12  win_by_wickets   756 non-null    int64 \n",
      " 13  player_of_match  752 non-null    object\n",
      " 14  venue            756 non-null    object\n",
      " 15  umpire1          754 non-null    object\n",
      " 16  umpire2          754 non-null    object\n",
      " 17  umpire3          119 non-null    object\n",
      "dtypes: int64(5), object(13)\n",
      "memory usage: 106.4+ KB\n"
     ]
    }
   ],
   "source": [
    "matches_df.info()"
   ]
  },
  {
   "cell_type": "code",
   "execution_count": 25,
   "id": "d2d2870e",
   "metadata": {},
   "outputs": [
    {
     "data": {
      "text/html": [
       "<div>\n",
       "<style scoped>\n",
       "    .dataframe tbody tr th:only-of-type {\n",
       "        vertical-align: middle;\n",
       "    }\n",
       "\n",
       "    .dataframe tbody tr th {\n",
       "        vertical-align: top;\n",
       "    }\n",
       "\n",
       "    .dataframe thead th {\n",
       "        text-align: right;\n",
       "    }\n",
       "</style>\n",
       "<table border=\"1\" class=\"dataframe\">\n",
       "  <thead>\n",
       "    <tr style=\"text-align: right;\">\n",
       "      <th></th>\n",
       "      <th>team1</th>\n",
       "      <th>team2</th>\n",
       "      <th>city</th>\n",
       "      <th>toss_decision</th>\n",
       "      <th>toss_winner</th>\n",
       "      <th>venue</th>\n",
       "      <th>winner</th>\n",
       "    </tr>\n",
       "  </thead>\n",
       "  <tbody>\n",
       "    <tr>\n",
       "      <th>0</th>\n",
       "      <td>Sunrisers Hyderabad</td>\n",
       "      <td>Royal Challengers Bangalore</td>\n",
       "      <td>Hyderabad</td>\n",
       "      <td>field</td>\n",
       "      <td>Royal Challengers Bangalore</td>\n",
       "      <td>Rajiv Gandhi International Stadium, Uppal</td>\n",
       "      <td>Sunrisers Hyderabad</td>\n",
       "    </tr>\n",
       "    <tr>\n",
       "      <th>1</th>\n",
       "      <td>Mumbai Indians</td>\n",
       "      <td>Rising Pune Supergiant</td>\n",
       "      <td>Pune</td>\n",
       "      <td>field</td>\n",
       "      <td>Rising Pune Supergiant</td>\n",
       "      <td>Maharashtra Cricket Association Stadium</td>\n",
       "      <td>Rising Pune Supergiant</td>\n",
       "    </tr>\n",
       "    <tr>\n",
       "      <th>2</th>\n",
       "      <td>Gujarat Lions</td>\n",
       "      <td>Kolkata Knight Riders</td>\n",
       "      <td>Rajkot</td>\n",
       "      <td>field</td>\n",
       "      <td>Kolkata Knight Riders</td>\n",
       "      <td>Saurashtra Cricket Association Stadium</td>\n",
       "      <td>Kolkata Knight Riders</td>\n",
       "    </tr>\n",
       "    <tr>\n",
       "      <th>3</th>\n",
       "      <td>Rising Pune Supergiant</td>\n",
       "      <td>Kings XI Punjab</td>\n",
       "      <td>Indore</td>\n",
       "      <td>field</td>\n",
       "      <td>Kings XI Punjab</td>\n",
       "      <td>Holkar Cricket Stadium</td>\n",
       "      <td>Kings XI Punjab</td>\n",
       "    </tr>\n",
       "    <tr>\n",
       "      <th>4</th>\n",
       "      <td>Royal Challengers Bangalore</td>\n",
       "      <td>Delhi Daredevils</td>\n",
       "      <td>Bangalore</td>\n",
       "      <td>bat</td>\n",
       "      <td>Royal Challengers Bangalore</td>\n",
       "      <td>M Chinnaswamy Stadium</td>\n",
       "      <td>Royal Challengers Bangalore</td>\n",
       "    </tr>\n",
       "    <tr>\n",
       "      <th>...</th>\n",
       "      <td>...</td>\n",
       "      <td>...</td>\n",
       "      <td>...</td>\n",
       "      <td>...</td>\n",
       "      <td>...</td>\n",
       "      <td>...</td>\n",
       "      <td>...</td>\n",
       "    </tr>\n",
       "    <tr>\n",
       "      <th>751</th>\n",
       "      <td>Kolkata Knight Riders</td>\n",
       "      <td>Mumbai Indians</td>\n",
       "      <td>Mumbai</td>\n",
       "      <td>field</td>\n",
       "      <td>Mumbai Indians</td>\n",
       "      <td>Wankhede Stadium</td>\n",
       "      <td>Mumbai Indians</td>\n",
       "    </tr>\n",
       "    <tr>\n",
       "      <th>752</th>\n",
       "      <td>Chennai Super Kings</td>\n",
       "      <td>Mumbai Indians</td>\n",
       "      <td>Chennai</td>\n",
       "      <td>bat</td>\n",
       "      <td>Chennai Super Kings</td>\n",
       "      <td>M. A. Chidambaram Stadium</td>\n",
       "      <td>Mumbai Indians</td>\n",
       "    </tr>\n",
       "    <tr>\n",
       "      <th>753</th>\n",
       "      <td>Sunrisers Hyderabad</td>\n",
       "      <td>Delhi Capitals</td>\n",
       "      <td>Visakhapatnam</td>\n",
       "      <td>field</td>\n",
       "      <td>Delhi Capitals</td>\n",
       "      <td>ACA-VDCA Stadium</td>\n",
       "      <td>Delhi Capitals</td>\n",
       "    </tr>\n",
       "    <tr>\n",
       "      <th>754</th>\n",
       "      <td>Delhi Capitals</td>\n",
       "      <td>Chennai Super Kings</td>\n",
       "      <td>Visakhapatnam</td>\n",
       "      <td>field</td>\n",
       "      <td>Chennai Super Kings</td>\n",
       "      <td>ACA-VDCA Stadium</td>\n",
       "      <td>Chennai Super Kings</td>\n",
       "    </tr>\n",
       "    <tr>\n",
       "      <th>755</th>\n",
       "      <td>Mumbai Indians</td>\n",
       "      <td>Chennai Super Kings</td>\n",
       "      <td>Hyderabad</td>\n",
       "      <td>bat</td>\n",
       "      <td>Mumbai Indians</td>\n",
       "      <td>Rajiv Gandhi Intl. Cricket Stadium</td>\n",
       "      <td>Mumbai Indians</td>\n",
       "    </tr>\n",
       "  </tbody>\n",
       "</table>\n",
       "<p>756 rows × 7 columns</p>\n",
       "</div>"
      ],
      "text/plain": [
       "                           team1                        team2           city  \\\n",
       "0            Sunrisers Hyderabad  Royal Challengers Bangalore      Hyderabad   \n",
       "1                 Mumbai Indians       Rising Pune Supergiant           Pune   \n",
       "2                  Gujarat Lions        Kolkata Knight Riders         Rajkot   \n",
       "3         Rising Pune Supergiant              Kings XI Punjab         Indore   \n",
       "4    Royal Challengers Bangalore             Delhi Daredevils      Bangalore   \n",
       "..                           ...                          ...            ...   \n",
       "751        Kolkata Knight Riders               Mumbai Indians         Mumbai   \n",
       "752          Chennai Super Kings               Mumbai Indians        Chennai   \n",
       "753          Sunrisers Hyderabad               Delhi Capitals  Visakhapatnam   \n",
       "754               Delhi Capitals          Chennai Super Kings  Visakhapatnam   \n",
       "755               Mumbai Indians          Chennai Super Kings      Hyderabad   \n",
       "\n",
       "    toss_decision                  toss_winner  \\\n",
       "0           field  Royal Challengers Bangalore   \n",
       "1           field       Rising Pune Supergiant   \n",
       "2           field        Kolkata Knight Riders   \n",
       "3           field              Kings XI Punjab   \n",
       "4             bat  Royal Challengers Bangalore   \n",
       "..            ...                          ...   \n",
       "751         field               Mumbai Indians   \n",
       "752           bat          Chennai Super Kings   \n",
       "753         field               Delhi Capitals   \n",
       "754         field          Chennai Super Kings   \n",
       "755           bat               Mumbai Indians   \n",
       "\n",
       "                                         venue                       winner  \n",
       "0    Rajiv Gandhi International Stadium, Uppal          Sunrisers Hyderabad  \n",
       "1      Maharashtra Cricket Association Stadium       Rising Pune Supergiant  \n",
       "2       Saurashtra Cricket Association Stadium        Kolkata Knight Riders  \n",
       "3                       Holkar Cricket Stadium              Kings XI Punjab  \n",
       "4                        M Chinnaswamy Stadium  Royal Challengers Bangalore  \n",
       "..                                         ...                          ...  \n",
       "751                           Wankhede Stadium               Mumbai Indians  \n",
       "752                  M. A. Chidambaram Stadium               Mumbai Indians  \n",
       "753                           ACA-VDCA Stadium               Delhi Capitals  \n",
       "754                           ACA-VDCA Stadium          Chennai Super Kings  \n",
       "755         Rajiv Gandhi Intl. Cricket Stadium               Mumbai Indians  \n",
       "\n",
       "[756 rows x 7 columns]"
      ]
     },
     "execution_count": 25,
     "metadata": {},
     "output_type": "execute_result"
    }
   ],
   "source": [
    "matches_df=matches_df[['team1','team2','city','toss_decision','toss_winner','venue','winner']]\n",
    "matches_df\n"
   ]
  },
  {
   "cell_type": "code",
   "execution_count": 26,
   "id": "09c61c4c",
   "metadata": {},
   "outputs": [
    {
     "name": "stdout",
     "output_type": "stream",
     "text": [
      "<class 'pandas.core.frame.DataFrame'>\n",
      "RangeIndex: 756 entries, 0 to 755\n",
      "Data columns (total 7 columns):\n",
      " #   Column         Non-Null Count  Dtype \n",
      "---  ------         --------------  ----- \n",
      " 0   team1          756 non-null    object\n",
      " 1   team2          756 non-null    object\n",
      " 2   city           756 non-null    object\n",
      " 3   toss_decision  756 non-null    object\n",
      " 4   toss_winner    756 non-null    object\n",
      " 5   venue          756 non-null    object\n",
      " 6   winner         756 non-null    object\n",
      "dtypes: object(7)\n",
      "memory usage: 41.5+ KB\n"
     ]
    }
   ],
   "source": [
    "matches_df.info()"
   ]
  },
  {
   "cell_type": "code",
   "execution_count": 27,
   "id": "57ebbbb2",
   "metadata": {},
   "outputs": [
    {
     "data": {
      "text/html": [
       "<div>\n",
       "<style scoped>\n",
       "    .dataframe tbody tr th:only-of-type {\n",
       "        vertical-align: middle;\n",
       "    }\n",
       "\n",
       "    .dataframe tbody tr th {\n",
       "        vertical-align: top;\n",
       "    }\n",
       "\n",
       "    .dataframe thead th {\n",
       "        text-align: right;\n",
       "    }\n",
       "</style>\n",
       "<table border=\"1\" class=\"dataframe\">\n",
       "  <thead>\n",
       "    <tr style=\"text-align: right;\">\n",
       "      <th></th>\n",
       "      <th>team1</th>\n",
       "      <th>team2</th>\n",
       "      <th>city</th>\n",
       "      <th>toss_decision</th>\n",
       "      <th>toss_winner</th>\n",
       "      <th>venue</th>\n",
       "      <th>winner</th>\n",
       "    </tr>\n",
       "  </thead>\n",
       "  <tbody>\n",
       "    <tr>\n",
       "      <th>0</th>\n",
       "      <td>Sunrisers Hyderabad</td>\n",
       "      <td>Royal Challengers Bangalore</td>\n",
       "      <td>Hyderabad</td>\n",
       "      <td>field</td>\n",
       "      <td>Royal Challengers Bangalore</td>\n",
       "      <td>Rajiv Gandhi International Stadium, Uppal</td>\n",
       "      <td>Sunrisers Hyderabad</td>\n",
       "    </tr>\n",
       "    <tr>\n",
       "      <th>1</th>\n",
       "      <td>Mumbai Indians</td>\n",
       "      <td>Rising Pune Supergiant</td>\n",
       "      <td>Pune</td>\n",
       "      <td>field</td>\n",
       "      <td>Rising Pune Supergiant</td>\n",
       "      <td>Maharashtra Cricket Association Stadium</td>\n",
       "      <td>Rising Pune Supergiant</td>\n",
       "    </tr>\n",
       "    <tr>\n",
       "      <th>2</th>\n",
       "      <td>Gujarat Lions</td>\n",
       "      <td>Kolkata Knight Riders</td>\n",
       "      <td>Rajkot</td>\n",
       "      <td>field</td>\n",
       "      <td>Kolkata Knight Riders</td>\n",
       "      <td>Saurashtra Cricket Association Stadium</td>\n",
       "      <td>Kolkata Knight Riders</td>\n",
       "    </tr>\n",
       "    <tr>\n",
       "      <th>3</th>\n",
       "      <td>Rising Pune Supergiant</td>\n",
       "      <td>Kings XI Punjab</td>\n",
       "      <td>Indore</td>\n",
       "      <td>field</td>\n",
       "      <td>Kings XI Punjab</td>\n",
       "      <td>Holkar Cricket Stadium</td>\n",
       "      <td>Kings XI Punjab</td>\n",
       "    </tr>\n",
       "    <tr>\n",
       "      <th>4</th>\n",
       "      <td>Royal Challengers Bangalore</td>\n",
       "      <td>Delhi Daredevils</td>\n",
       "      <td>Bangalore</td>\n",
       "      <td>bat</td>\n",
       "      <td>Royal Challengers Bangalore</td>\n",
       "      <td>M Chinnaswamy Stadium</td>\n",
       "      <td>Royal Challengers Bangalore</td>\n",
       "    </tr>\n",
       "    <tr>\n",
       "      <th>...</th>\n",
       "      <td>...</td>\n",
       "      <td>...</td>\n",
       "      <td>...</td>\n",
       "      <td>...</td>\n",
       "      <td>...</td>\n",
       "      <td>...</td>\n",
       "      <td>...</td>\n",
       "    </tr>\n",
       "    <tr>\n",
       "      <th>751</th>\n",
       "      <td>Kolkata Knight Riders</td>\n",
       "      <td>Mumbai Indians</td>\n",
       "      <td>Mumbai</td>\n",
       "      <td>field</td>\n",
       "      <td>Mumbai Indians</td>\n",
       "      <td>Wankhede Stadium</td>\n",
       "      <td>Mumbai Indians</td>\n",
       "    </tr>\n",
       "    <tr>\n",
       "      <th>752</th>\n",
       "      <td>Chennai Super Kings</td>\n",
       "      <td>Mumbai Indians</td>\n",
       "      <td>Chennai</td>\n",
       "      <td>bat</td>\n",
       "      <td>Chennai Super Kings</td>\n",
       "      <td>M. A. Chidambaram Stadium</td>\n",
       "      <td>Mumbai Indians</td>\n",
       "    </tr>\n",
       "    <tr>\n",
       "      <th>753</th>\n",
       "      <td>Sunrisers Hyderabad</td>\n",
       "      <td>Delhi Capitals</td>\n",
       "      <td>Visakhapatnam</td>\n",
       "      <td>field</td>\n",
       "      <td>Delhi Capitals</td>\n",
       "      <td>ACA-VDCA Stadium</td>\n",
       "      <td>Delhi Capitals</td>\n",
       "    </tr>\n",
       "    <tr>\n",
       "      <th>754</th>\n",
       "      <td>Delhi Capitals</td>\n",
       "      <td>Chennai Super Kings</td>\n",
       "      <td>Visakhapatnam</td>\n",
       "      <td>field</td>\n",
       "      <td>Chennai Super Kings</td>\n",
       "      <td>ACA-VDCA Stadium</td>\n",
       "      <td>Chennai Super Kings</td>\n",
       "    </tr>\n",
       "    <tr>\n",
       "      <th>755</th>\n",
       "      <td>Mumbai Indians</td>\n",
       "      <td>Chennai Super Kings</td>\n",
       "      <td>Hyderabad</td>\n",
       "      <td>bat</td>\n",
       "      <td>Mumbai Indians</td>\n",
       "      <td>Rajiv Gandhi Intl. Cricket Stadium</td>\n",
       "      <td>Mumbai Indians</td>\n",
       "    </tr>\n",
       "  </tbody>\n",
       "</table>\n",
       "<p>756 rows × 7 columns</p>\n",
       "</div>"
      ],
      "text/plain": [
       "                           team1                        team2           city  \\\n",
       "0            Sunrisers Hyderabad  Royal Challengers Bangalore      Hyderabad   \n",
       "1                 Mumbai Indians       Rising Pune Supergiant           Pune   \n",
       "2                  Gujarat Lions        Kolkata Knight Riders         Rajkot   \n",
       "3         Rising Pune Supergiant              Kings XI Punjab         Indore   \n",
       "4    Royal Challengers Bangalore             Delhi Daredevils      Bangalore   \n",
       "..                           ...                          ...            ...   \n",
       "751        Kolkata Knight Riders               Mumbai Indians         Mumbai   \n",
       "752          Chennai Super Kings               Mumbai Indians        Chennai   \n",
       "753          Sunrisers Hyderabad               Delhi Capitals  Visakhapatnam   \n",
       "754               Delhi Capitals          Chennai Super Kings  Visakhapatnam   \n",
       "755               Mumbai Indians          Chennai Super Kings      Hyderabad   \n",
       "\n",
       "    toss_decision                  toss_winner  \\\n",
       "0           field  Royal Challengers Bangalore   \n",
       "1           field       Rising Pune Supergiant   \n",
       "2           field        Kolkata Knight Riders   \n",
       "3           field              Kings XI Punjab   \n",
       "4             bat  Royal Challengers Bangalore   \n",
       "..            ...                          ...   \n",
       "751         field               Mumbai Indians   \n",
       "752           bat          Chennai Super Kings   \n",
       "753         field               Delhi Capitals   \n",
       "754         field          Chennai Super Kings   \n",
       "755           bat               Mumbai Indians   \n",
       "\n",
       "                                         venue                       winner  \n",
       "0    Rajiv Gandhi International Stadium, Uppal          Sunrisers Hyderabad  \n",
       "1      Maharashtra Cricket Association Stadium       Rising Pune Supergiant  \n",
       "2       Saurashtra Cricket Association Stadium        Kolkata Knight Riders  \n",
       "3                       Holkar Cricket Stadium              Kings XI Punjab  \n",
       "4                        M Chinnaswamy Stadium  Royal Challengers Bangalore  \n",
       "..                                         ...                          ...  \n",
       "751                           Wankhede Stadium               Mumbai Indians  \n",
       "752                  M. A. Chidambaram Stadium               Mumbai Indians  \n",
       "753                           ACA-VDCA Stadium               Delhi Capitals  \n",
       "754                           ACA-VDCA Stadium          Chennai Super Kings  \n",
       "755         Rajiv Gandhi Intl. Cricket Stadium               Mumbai Indians  \n",
       "\n",
       "[756 rows x 7 columns]"
      ]
     },
     "execution_count": 27,
     "metadata": {},
     "output_type": "execute_result"
    }
   ],
   "source": [
    "matches_df=matches_df[['team1','team2','city','toss_decision','toss_winner','venue','winner']]\n",
    "matches_df"
   ]
  },
  {
   "cell_type": "code",
   "execution_count": 28,
   "id": "69c19400",
   "metadata": {},
   "outputs": [
    {
     "name": "stdout",
     "output_type": "stream",
     "text": [
      "<class 'pandas.core.frame.DataFrame'>\n",
      "RangeIndex: 756 entries, 0 to 755\n",
      "Data columns (total 7 columns):\n",
      " #   Column         Non-Null Count  Dtype \n",
      "---  ------         --------------  ----- \n",
      " 0   team1          756 non-null    object\n",
      " 1   team2          756 non-null    object\n",
      " 2   city           756 non-null    object\n",
      " 3   toss_decision  756 non-null    object\n",
      " 4   toss_winner    756 non-null    object\n",
      " 5   venue          756 non-null    object\n",
      " 6   winner         756 non-null    object\n",
      "dtypes: object(7)\n",
      "memory usage: 41.5+ KB\n"
     ]
    }
   ],
   "source": [
    "matches_df.info()"
   ]
  },
  {
   "cell_type": "code",
   "execution_count": 29,
   "id": "04397513",
   "metadata": {},
   "outputs": [
    {
     "data": {
      "text/plain": [
       "Mumbai Indians                 101\n",
       "Kings XI Punjab                 91\n",
       "Chennai Super Kings             89\n",
       "Royal Challengers Bangalore     85\n",
       "Kolkata Knight Riders           83\n",
       "Delhi Daredevils                72\n",
       "Rajasthan Royals                67\n",
       "Sunrisers Hyderabad             63\n",
       "Deccan Chargers                 43\n",
       "Pune Warriors                   20\n",
       "Gujarat Lions                   14\n",
       "Rising Pune Supergiant           8\n",
       "Kochi Tuskers Kerala             7\n",
       "Rising Pune Supergiants          7\n",
       "Delhi Capitals                   6\n",
       "Name: team1, dtype: int64"
      ]
     },
     "execution_count": 29,
     "metadata": {},
     "output_type": "execute_result"
    }
   ],
   "source": [
    "matches_df['team1'].value_counts()"
   ]
  },
  {
   "cell_type": "code",
   "execution_count": 30,
   "id": "fa424a1f",
   "metadata": {},
   "outputs": [],
   "source": [
    "team_encodings={\n",
    "    'Mumbai Indians' : 1,\n",
    "    'Sunrisers Hyderabad':2,\n",
    "    'Royal Challengers Bangalore':3,\n",
    "    'Kolkata Knight Riders':4,\n",
    "    'Gujarat Lions':5,\n",
    "    'Delhi Daredevils':6,\n",
    "    'Delhi Capitals':6,\n",
    "    'Kings XI Punjab':7,\n",
    "    'Chennai Super Kings':8,\n",
    "    'Rajasthan Royals':9,\n",
    "    'Rising Pune Supergiant':10,\n",
    "    'Rising Pune Supergiants':10,\n",
    "    'Deccan Chargers':11,\n",
    "    'Pune Warriors':12,\n",
    "    'Kochi Tuskers Kerala':13,\n",
    "    'Draw':14\n",
    "}\n",
    "team_encode_dict={\n",
    "    'team1': team_encodings,\n",
    "    'team2': team_encodings,\n",
    "    'toss_winner':team_encodings\n",
    "}\n",
    "\n",
    "matches_df.replace(team_encode_dict, inplace=True)"
   ]
  },
  {
   "cell_type": "code",
   "execution_count": 31,
   "id": "93be0f17",
   "metadata": {},
   "outputs": [
    {
     "data": {
      "text/html": [
       "<div>\n",
       "<style scoped>\n",
       "    .dataframe tbody tr th:only-of-type {\n",
       "        vertical-align: middle;\n",
       "    }\n",
       "\n",
       "    .dataframe tbody tr th {\n",
       "        vertical-align: top;\n",
       "    }\n",
       "\n",
       "    .dataframe thead th {\n",
       "        text-align: right;\n",
       "    }\n",
       "</style>\n",
       "<table border=\"1\" class=\"dataframe\">\n",
       "  <thead>\n",
       "    <tr style=\"text-align: right;\">\n",
       "      <th></th>\n",
       "      <th>team1</th>\n",
       "      <th>team2</th>\n",
       "      <th>city</th>\n",
       "      <th>toss_decision</th>\n",
       "      <th>toss_winner</th>\n",
       "      <th>venue</th>\n",
       "      <th>winner</th>\n",
       "    </tr>\n",
       "  </thead>\n",
       "  <tbody>\n",
       "    <tr>\n",
       "      <th>0</th>\n",
       "      <td>2</td>\n",
       "      <td>3</td>\n",
       "      <td>Hyderabad</td>\n",
       "      <td>field</td>\n",
       "      <td>3</td>\n",
       "      <td>Rajiv Gandhi International Stadium, Uppal</td>\n",
       "      <td>Sunrisers Hyderabad</td>\n",
       "    </tr>\n",
       "    <tr>\n",
       "      <th>1</th>\n",
       "      <td>1</td>\n",
       "      <td>10</td>\n",
       "      <td>Pune</td>\n",
       "      <td>field</td>\n",
       "      <td>10</td>\n",
       "      <td>Maharashtra Cricket Association Stadium</td>\n",
       "      <td>Rising Pune Supergiant</td>\n",
       "    </tr>\n",
       "    <tr>\n",
       "      <th>2</th>\n",
       "      <td>5</td>\n",
       "      <td>4</td>\n",
       "      <td>Rajkot</td>\n",
       "      <td>field</td>\n",
       "      <td>4</td>\n",
       "      <td>Saurashtra Cricket Association Stadium</td>\n",
       "      <td>Kolkata Knight Riders</td>\n",
       "    </tr>\n",
       "    <tr>\n",
       "      <th>3</th>\n",
       "      <td>10</td>\n",
       "      <td>7</td>\n",
       "      <td>Indore</td>\n",
       "      <td>field</td>\n",
       "      <td>7</td>\n",
       "      <td>Holkar Cricket Stadium</td>\n",
       "      <td>Kings XI Punjab</td>\n",
       "    </tr>\n",
       "    <tr>\n",
       "      <th>4</th>\n",
       "      <td>3</td>\n",
       "      <td>6</td>\n",
       "      <td>Bangalore</td>\n",
       "      <td>bat</td>\n",
       "      <td>3</td>\n",
       "      <td>M Chinnaswamy Stadium</td>\n",
       "      <td>Royal Challengers Bangalore</td>\n",
       "    </tr>\n",
       "  </tbody>\n",
       "</table>\n",
       "</div>"
      ],
      "text/plain": [
       "   team1  team2       city toss_decision  toss_winner  \\\n",
       "0      2      3  Hyderabad         field            3   \n",
       "1      1     10       Pune         field           10   \n",
       "2      5      4     Rajkot         field            4   \n",
       "3     10      7     Indore         field            7   \n",
       "4      3      6  Bangalore           bat            3   \n",
       "\n",
       "                                       venue                       winner  \n",
       "0  Rajiv Gandhi International Stadium, Uppal          Sunrisers Hyderabad  \n",
       "1    Maharashtra Cricket Association Stadium       Rising Pune Supergiant  \n",
       "2     Saurashtra Cricket Association Stadium        Kolkata Knight Riders  \n",
       "3                     Holkar Cricket Stadium              Kings XI Punjab  \n",
       "4                      M Chinnaswamy Stadium  Royal Challengers Bangalore  "
      ]
     },
     "execution_count": 31,
     "metadata": {},
     "output_type": "execute_result"
    }
   ],
   "source": [
    "matches_df.head()"
   ]
  },
  {
   "cell_type": "code",
   "execution_count": 32,
   "id": "3682ecaa",
   "metadata": {},
   "outputs": [
    {
     "name": "stdout",
     "output_type": "stream",
     "text": [
      "['Abu Dhabi' 'Ahmedabad' 'Bangalore' 'Bengaluru' 'Bloemfontein'\n",
      " 'Cape Town' 'Centurion' 'Chandigarh' 'Chennai' 'Cuttack' 'Delhi'\n",
      " 'Dharamsala' 'Dubai' 'Durban' 'East London' 'Hyderabad' 'Indore' 'Jaipur'\n",
      " 'Johannesburg' 'Kanpur' 'Kimberley' 'Kochi' 'Kolkata' 'Mohali' 'Mumbai'\n",
      " 'Nagpur' 'Port Elizabeth' 'Pune' 'Raipur' 'Rajkot' 'Ranchi' 'Sharjah'\n",
      " 'Visakhapatnam']\n",
      "['bat' 'field']\n",
      "['ACA-VDCA Stadium' 'Barabati Stadium' 'Brabourne Stadium' 'Buffalo Park'\n",
      " 'De Beers Diamond Oval' 'Dr DY Patil Sports Academy'\n",
      " 'Dr. Y.S. Rajasekhara Reddy ACA-VDCA Cricket Stadium'\n",
      " 'Dubai International Cricket Stadium' 'Eden Gardens' 'Feroz Shah Kotla'\n",
      " 'Feroz Shah Kotla Ground' 'Green Park'\n",
      " 'Himachal Pradesh Cricket Association Stadium' 'Holkar Cricket Stadium'\n",
      " 'IS Bindra Stadium' 'JSCA International Stadium Complex' 'Kingsmead'\n",
      " 'M Chinnaswamy Stadium' 'M. A. Chidambaram Stadium'\n",
      " 'M. Chinnaswamy Stadium' 'MA Chidambaram Stadium, Chepauk'\n",
      " 'Maharashtra Cricket Association Stadium' 'Nehru Stadium'\n",
      " 'New Wanderers Stadium' 'Newlands' 'OUTsurance Oval'\n",
      " 'Punjab Cricket Association IS Bindra Stadium, Mohali'\n",
      " 'Punjab Cricket Association Stadium, Mohali'\n",
      " 'Rajiv Gandhi International Stadium, Uppal'\n",
      " 'Rajiv Gandhi Intl. Cricket Stadium' 'Sardar Patel Stadium, Motera'\n",
      " 'Saurashtra Cricket Association Stadium' 'Sawai Mansingh Stadium'\n",
      " 'Shaheed Veer Narayan Singh International Stadium'\n",
      " 'Sharjah Cricket Stadium' 'Sheikh Zayed Stadium' \"St George's Park\"\n",
      " 'Subrata Roy Sahara Stadium' 'SuperSport Park'\n",
      " 'Vidarbha Cricket Association Stadium, Jamtha' 'Wankhede Stadium']\n"
     ]
    }
   ],
   "source": [
    "from sklearn.preprocessing import LabelEncoder\n",
    "ftr_list=['city','toss_decision','venue']\n",
    "encoder=LabelEncoder()\n",
    "for ftr in ftr_list:\n",
    "    matches_df[ftr]=encoder.fit_transform(matches_df[ftr])\n",
    "    print(encoder.classes_)"
   ]
  },
  {
   "cell_type": "code",
   "execution_count": 33,
   "id": "2ffbb5a7",
   "metadata": {},
   "outputs": [
    {
     "data": {
      "text/html": [
       "<div>\n",
       "<style scoped>\n",
       "    .dataframe tbody tr th:only-of-type {\n",
       "        vertical-align: middle;\n",
       "    }\n",
       "\n",
       "    .dataframe tbody tr th {\n",
       "        vertical-align: top;\n",
       "    }\n",
       "\n",
       "    .dataframe thead th {\n",
       "        text-align: right;\n",
       "    }\n",
       "</style>\n",
       "<table border=\"1\" class=\"dataframe\">\n",
       "  <thead>\n",
       "    <tr style=\"text-align: right;\">\n",
       "      <th></th>\n",
       "      <th>team1</th>\n",
       "      <th>team2</th>\n",
       "      <th>city</th>\n",
       "      <th>toss_decision</th>\n",
       "      <th>toss_winner</th>\n",
       "      <th>venue</th>\n",
       "      <th>winner</th>\n",
       "    </tr>\n",
       "  </thead>\n",
       "  <tbody>\n",
       "    <tr>\n",
       "      <th>0</th>\n",
       "      <td>2</td>\n",
       "      <td>3</td>\n",
       "      <td>15</td>\n",
       "      <td>1</td>\n",
       "      <td>3</td>\n",
       "      <td>28</td>\n",
       "      <td>Sunrisers Hyderabad</td>\n",
       "    </tr>\n",
       "    <tr>\n",
       "      <th>1</th>\n",
       "      <td>1</td>\n",
       "      <td>10</td>\n",
       "      <td>27</td>\n",
       "      <td>1</td>\n",
       "      <td>10</td>\n",
       "      <td>21</td>\n",
       "      <td>Rising Pune Supergiant</td>\n",
       "    </tr>\n",
       "    <tr>\n",
       "      <th>2</th>\n",
       "      <td>5</td>\n",
       "      <td>4</td>\n",
       "      <td>29</td>\n",
       "      <td>1</td>\n",
       "      <td>4</td>\n",
       "      <td>31</td>\n",
       "      <td>Kolkata Knight Riders</td>\n",
       "    </tr>\n",
       "    <tr>\n",
       "      <th>3</th>\n",
       "      <td>10</td>\n",
       "      <td>7</td>\n",
       "      <td>16</td>\n",
       "      <td>1</td>\n",
       "      <td>7</td>\n",
       "      <td>13</td>\n",
       "      <td>Kings XI Punjab</td>\n",
       "    </tr>\n",
       "    <tr>\n",
       "      <th>4</th>\n",
       "      <td>3</td>\n",
       "      <td>6</td>\n",
       "      <td>2</td>\n",
       "      <td>0</td>\n",
       "      <td>3</td>\n",
       "      <td>17</td>\n",
       "      <td>Royal Challengers Bangalore</td>\n",
       "    </tr>\n",
       "    <tr>\n",
       "      <th>...</th>\n",
       "      <td>...</td>\n",
       "      <td>...</td>\n",
       "      <td>...</td>\n",
       "      <td>...</td>\n",
       "      <td>...</td>\n",
       "      <td>...</td>\n",
       "      <td>...</td>\n",
       "    </tr>\n",
       "    <tr>\n",
       "      <th>751</th>\n",
       "      <td>4</td>\n",
       "      <td>1</td>\n",
       "      <td>24</td>\n",
       "      <td>1</td>\n",
       "      <td>1</td>\n",
       "      <td>40</td>\n",
       "      <td>Mumbai Indians</td>\n",
       "    </tr>\n",
       "    <tr>\n",
       "      <th>752</th>\n",
       "      <td>8</td>\n",
       "      <td>1</td>\n",
       "      <td>8</td>\n",
       "      <td>0</td>\n",
       "      <td>8</td>\n",
       "      <td>18</td>\n",
       "      <td>Mumbai Indians</td>\n",
       "    </tr>\n",
       "    <tr>\n",
       "      <th>753</th>\n",
       "      <td>2</td>\n",
       "      <td>6</td>\n",
       "      <td>32</td>\n",
       "      <td>1</td>\n",
       "      <td>6</td>\n",
       "      <td>0</td>\n",
       "      <td>Delhi Capitals</td>\n",
       "    </tr>\n",
       "    <tr>\n",
       "      <th>754</th>\n",
       "      <td>6</td>\n",
       "      <td>8</td>\n",
       "      <td>32</td>\n",
       "      <td>1</td>\n",
       "      <td>8</td>\n",
       "      <td>0</td>\n",
       "      <td>Chennai Super Kings</td>\n",
       "    </tr>\n",
       "    <tr>\n",
       "      <th>755</th>\n",
       "      <td>1</td>\n",
       "      <td>8</td>\n",
       "      <td>15</td>\n",
       "      <td>0</td>\n",
       "      <td>1</td>\n",
       "      <td>29</td>\n",
       "      <td>Mumbai Indians</td>\n",
       "    </tr>\n",
       "  </tbody>\n",
       "</table>\n",
       "<p>756 rows × 7 columns</p>\n",
       "</div>"
      ],
      "text/plain": [
       "     team1  team2  city  toss_decision  toss_winner  venue  \\\n",
       "0        2      3    15              1            3     28   \n",
       "1        1     10    27              1           10     21   \n",
       "2        5      4    29              1            4     31   \n",
       "3       10      7    16              1            7     13   \n",
       "4        3      6     2              0            3     17   \n",
       "..     ...    ...   ...            ...          ...    ...   \n",
       "751      4      1    24              1            1     40   \n",
       "752      8      1     8              0            8     18   \n",
       "753      2      6    32              1            6      0   \n",
       "754      6      8    32              1            8      0   \n",
       "755      1      8    15              0            1     29   \n",
       "\n",
       "                          winner  \n",
       "0            Sunrisers Hyderabad  \n",
       "1         Rising Pune Supergiant  \n",
       "2          Kolkata Knight Riders  \n",
       "3                Kings XI Punjab  \n",
       "4    Royal Challengers Bangalore  \n",
       "..                           ...  \n",
       "751               Mumbai Indians  \n",
       "752               Mumbai Indians  \n",
       "753               Delhi Capitals  \n",
       "754          Chennai Super Kings  \n",
       "755               Mumbai Indians  \n",
       "\n",
       "[756 rows x 7 columns]"
      ]
     },
     "execution_count": 33,
     "metadata": {},
     "output_type": "execute_result"
    }
   ],
   "source": [
    "matches_df"
   ]
  },
  {
   "cell_type": "markdown",
   "id": "fb87541e",
   "metadata": {},
   "source": [
    "# graph between team1 and winner"
   ]
  },
  {
   "cell_type": "code",
   "execution_count": 34,
   "id": "94854088",
   "metadata": {},
   "outputs": [
    {
     "data": {
      "text/plain": [
       "<matplotlib.collections.PathCollection at 0x139ffdef9a0>"
      ]
     },
     "execution_count": 34,
     "metadata": {},
     "output_type": "execute_result"
    },
    {
     "data": {
      "image/png": "[encoded data removed]",
      "text/plain": [
       "<Figure size 432x288 with 1 Axes>"
      ]
     },
     "metadata": {
      "needs_background": "light"
     },
     "output_type": "display_data"
    }
   ],
   "source": [
    "plt.scatter(matches_df.team1, matches_df.winner, marker='+', color='red')"
   ]
  },
  {
   "cell_type": "markdown",
   "id": "45ec63f8",
   "metadata": {},
   "source": [
    "# graph between team1 and winner"
   ]
  },
  {
   "cell_type": "code",
   "execution_count": 35,
   "id": "a86cc6c7",
   "metadata": {},
   "outputs": [
    {
     "data": {
      "text/plain": [
       "<matplotlib.collections.PathCollection at 0x139fff03100>"
      ]
     },
     "execution_count": 35,
     "metadata": {},
     "output_type": "execute_result"
    },
    {
     "data": {
      "image/png": "[encoded data removed]",
      "text/plain": [
       "<Figure size 432x288 with 1 Axes>"
      ]
     },
     "metadata": {
      "needs_background": "light"
     },
     "output_type": "display_data"
    }
   ],
   "source": [
    "plt.scatter(matches_df.team2, matches_df.winner, marker='+', color='red')"
   ]
  },
  {
   "cell_type": "markdown",
   "id": "13b238db",
   "metadata": {},
   "source": [
    "# Train_Test_Split"
   ]
  },
  {
   "cell_type": "code",
   "execution_count": 36,
   "id": "240214c9",
   "metadata": {},
   "outputs": [],
   "source": [
    "x=matches_df.drop(['winner'], axis=1)"
   ]
  },
  {
   "cell_type": "code",
   "execution_count": 37,
   "id": "7f284f54",
   "metadata": {},
   "outputs": [],
   "source": [
    "y=matches_df['winner']"
   ]
  },
  {
   "cell_type": "code",
   "execution_count": 38,
   "id": "4283d7ef",
   "metadata": {},
   "outputs": [],
   "source": [
    "from sklearn.model_selection import train_test_split"
   ]
  },
  {
   "cell_type": "code",
   "execution_count": 39,
   "id": "8b5c8c1a",
   "metadata": {},
   "outputs": [],
   "source": [
    "x_train, x_test, y_train, y_test = train_test_split(x, y, test_size=0.2, random_state=2)"
   ]
  },
  {
   "cell_type": "markdown",
   "id": "c97fed69",
   "metadata": {},
   "source": [
    "# Logistic Regression"
   ]
  },
  {
   "cell_type": "code",
   "execution_count": 40,
   "id": "b0495acc",
   "metadata": {},
   "outputs": [],
   "source": [
    "from sklearn.linear_model import LogisticRegression"
   ]
  },
  {
   "cell_type": "code",
   "execution_count": 41,
   "id": "f688720f",
   "metadata": {},
   "outputs": [],
   "source": [
    "model= LogisticRegression()"
   ]
  },
  {
   "cell_type": "code",
   "execution_count": 42,
   "id": "52d6eea4",
   "metadata": {},
   "outputs": [
    {
     "data": {
      "text/plain": [
       "LogisticRegression()"
      ]
     },
     "execution_count": 42,
     "metadata": {},
     "output_type": "execute_result"
    }
   ],
   "source": [
    "model.fit(x_train, y_train)"
   ]
  },
  {
   "cell_type": "code",
   "execution_count": 43,
   "id": "8c4d5a51",
   "metadata": {},
   "outputs": [
    {
     "data": {
      "text/plain": [
       "'Kolkata Knight Riders'"
      ]
     },
     "execution_count": 43,
     "metadata": {},
     "output_type": "execute_result"
    }
   ],
   "source": [
    "model.predict([[2,6,32,1,6,0]])[0]"
   ]
  },
  {
   "cell_type": "code",
   "execution_count": 44,
   "id": "0e1a79a9",
   "metadata": {},
   "outputs": [
    {
     "data": {
      "text/plain": [
       "array(['Kolkata Knight Riders', 'Kolkata Knight Riders', 'Mumbai Indians',\n",
       "       'Kolkata Knight Riders', 'Kings XI Punjab',\n",
       "       'Kolkata Knight Riders', 'Mumbai Indians', 'Chennai Super Kings',\n",
       "       'Kings XI Punjab', 'Kolkata Knight Riders',\n",
       "       'Kolkata Knight Riders', 'Rajasthan Royals',\n",
       "       'Kolkata Knight Riders', 'Deccan Chargers',\n",
       "       'Royal Challengers Bangalore', 'Mumbai Indians',\n",
       "       'Rising Pune Supergiants', 'Mumbai Indians', 'Mumbai Indians',\n",
       "       'Kings XI Punjab', 'Royal Challengers Bangalore',\n",
       "       'Chennai Super Kings', 'Chennai Super Kings', 'Mumbai Indians',\n",
       "       'Rajasthan Royals', 'Mumbai Indians',\n",
       "       'Royal Challengers Bangalore', 'Chennai Super Kings',\n",
       "       'Kolkata Knight Riders', 'Chennai Super Kings',\n",
       "       'Royal Challengers Bangalore', 'Kings XI Punjab', 'Mumbai Indians',\n",
       "       'Mumbai Indians', 'Chennai Super Kings', 'Mumbai Indians',\n",
       "       'Chennai Super Kings', 'Kings XI Punjab',\n",
       "       'Royal Challengers Bangalore', 'Mumbai Indians',\n",
       "       'Chennai Super Kings', 'Chennai Super Kings',\n",
       "       'Chennai Super Kings', 'Rajasthan Royals', 'Kings XI Punjab',\n",
       "       'Kolkata Knight Riders', 'Chennai Super Kings',\n",
       "       'Kolkata Knight Riders', 'Mumbai Indians', 'Kolkata Knight Riders',\n",
       "       'Kolkata Knight Riders', 'Mumbai Indians', 'Chennai Super Kings',\n",
       "       'Mumbai Indians', 'Royal Challengers Bangalore',\n",
       "       'Rajasthan Royals', 'Chennai Super Kings', 'Kings XI Punjab',\n",
       "       'Chennai Super Kings', 'Mumbai Indians', 'Mumbai Indians',\n",
       "       'Kolkata Knight Riders', 'Chennai Super Kings', 'Rajasthan Royals',\n",
       "       'Royal Challengers Bangalore', 'Chennai Super Kings',\n",
       "       'Mumbai Indians', 'Mumbai Indians', 'Kings XI Punjab',\n",
       "       'Chennai Super Kings', 'Chennai Super Kings',\n",
       "       'Royal Challengers Bangalore', 'Kolkata Knight Riders',\n",
       "       'Mumbai Indians', 'Chennai Super Kings', 'Chennai Super Kings',\n",
       "       'Kings XI Punjab', 'Kings XI Punjab',\n",
       "       'Royal Challengers Bangalore', 'Mumbai Indians', 'Mumbai Indians',\n",
       "       'Royal Challengers Bangalore', 'Mumbai Indians', 'Mumbai Indians',\n",
       "       'Royal Challengers Bangalore', 'Mumbai Indians',\n",
       "       'Chennai Super Kings', 'Mumbai Indians', 'Mumbai Indians',\n",
       "       'Kolkata Knight Riders', 'Kings XI Punjab', 'Chennai Super Kings',\n",
       "       'Kolkata Knight Riders', 'Kolkata Knight Riders',\n",
       "       'Royal Challengers Bangalore', 'Mumbai Indians',\n",
       "       'Kolkata Knight Riders', 'Kings XI Punjab',\n",
       "       'Kolkata Knight Riders', 'Chennai Super Kings',\n",
       "       'Royal Challengers Bangalore', 'Kings XI Punjab',\n",
       "       'Chennai Super Kings', 'Mumbai Indians', 'Kings XI Punjab',\n",
       "       'Chennai Super Kings', 'Mumbai Indians', 'Kolkata Knight Riders',\n",
       "       'Chennai Super Kings', 'Chennai Super Kings',\n",
       "       'Kolkata Knight Riders', 'Royal Challengers Bangalore',\n",
       "       'Mumbai Indians', 'Kolkata Knight Riders',\n",
       "       'Royal Challengers Bangalore', 'Mumbai Indians',\n",
       "       'Chennai Super Kings', 'Kolkata Knight Riders',\n",
       "       'Kolkata Knight Riders', 'Rajasthan Royals', 'Kings XI Punjab',\n",
       "       'Mumbai Indians', 'Royal Challengers Bangalore',\n",
       "       'Chennai Super Kings', 'Royal Challengers Bangalore',\n",
       "       'Chennai Super Kings', 'Chennai Super Kings',\n",
       "       'Chennai Super Kings', 'Kolkata Knight Riders',\n",
       "       'Royal Challengers Bangalore', 'Kings XI Punjab',\n",
       "       'Kings XI Punjab', 'Kolkata Knight Riders', 'Chennai Super Kings',\n",
       "       'Royal Challengers Bangalore', 'Kolkata Knight Riders',\n",
       "       'Chennai Super Kings', 'Kolkata Knight Riders',\n",
       "       'Chennai Super Kings', 'Chennai Super Kings',\n",
       "       'Kolkata Knight Riders', 'Kings XI Punjab', 'Chennai Super Kings',\n",
       "       'Chennai Super Kings', 'Chennai Super Kings', 'Mumbai Indians',\n",
       "       'Mumbai Indians', 'Kolkata Knight Riders', 'Chennai Super Kings',\n",
       "       'Kings XI Punjab', 'Chennai Super Kings', 'Draw'], dtype=object)"
      ]
     },
     "execution_count": 44,
     "metadata": {},
     "output_type": "execute_result"
    }
   ],
   "source": [
    "model.predict(x_test)"
   ]
  },
  {
   "cell_type": "code",
   "execution_count": 45,
   "id": "ab10bcdb",
   "metadata": {},
   "outputs": [
    {
     "data": {
      "text/plain": [
       "0.25"
      ]
     },
     "execution_count": 45,
     "metadata": {},
     "output_type": "execute_result"
    }
   ],
   "source": [
    "model.score(x_test, y_test)"
   ]
  },
  {
   "cell_type": "markdown",
   "id": "90a92faa",
   "metadata": {},
   "source": [
    "# Decision Tree Classifier"
   ]
  },
  {
   "cell_type": "code",
   "execution_count": 46,
   "id": "fa5a827e",
   "metadata": {},
   "outputs": [],
   "source": [
    "from sklearn import tree"
   ]
  },
  {
   "cell_type": "code",
   "execution_count": 47,
   "id": "59dba4a5",
   "metadata": {},
   "outputs": [],
   "source": [
    "model2 = tree.DecisionTreeClassifier()"
   ]
  },
  {
   "cell_type": "code",
   "execution_count": 48,
   "id": "c9cc96b8",
   "metadata": {},
   "outputs": [
    {
     "data": {
      "text/plain": [
       "DecisionTreeClassifier()"
      ]
     },
     "execution_count": 48,
     "metadata": {},
     "output_type": "execute_result"
    }
   ],
   "source": [
    "model2.fit(x_train, y_train)"
   ]
  },
  {
   "cell_type": "code",
   "execution_count": 49,
   "id": "1d7170c6",
   "metadata": {},
   "outputs": [
    {
     "data": {
      "text/plain": [
       "0.5263157894736842"
      ]
     },
     "execution_count": 49,
     "metadata": {},
     "output_type": "execute_result"
    }
   ],
   "source": [
    "model2.score(x_test, y_test)"
   ]
  },
  {
   "cell_type": "code",
   "execution_count": 50,
   "id": "4c9a6c9f",
   "metadata": {},
   "outputs": [
    {
     "data": {
      "text/plain": [
       "'Delhi Capitals'"
      ]
     },
     "execution_count": 50,
     "metadata": {},
     "output_type": "execute_result"
    }
   ],
   "source": [
    "model2.predict([[2,6,32,1,6,0]])[0]"
   ]
  },
  {
   "cell_type": "code",
   "execution_count": 51,
   "id": "778da149",
   "metadata": {},
   "outputs": [
    {
     "data": {
      "text/plain": [
       "array(['Kolkata Knight Riders', 'Sunrisers Hyderabad',\n",
       "       'Sunrisers Hyderabad', 'Kolkata Knight Riders', 'Rajasthan Royals',\n",
       "       'Chennai Super Kings', 'Sunrisers Hyderabad', 'Delhi Daredevils',\n",
       "       'Delhi Daredevils', 'Sunrisers Hyderabad', 'Rajasthan Royals',\n",
       "       'Deccan Chargers', 'Kolkata Knight Riders',\n",
       "       'Royal Challengers Bangalore', 'Kings XI Punjab',\n",
       "       'Chennai Super Kings', 'Deccan Chargers', 'Sunrisers Hyderabad',\n",
       "       'Delhi Capitals', 'Kolkata Knight Riders', 'Kings XI Punjab',\n",
       "       'Chennai Super Kings', 'Kolkata Knight Riders', 'Delhi Daredevils',\n",
       "       'Chennai Super Kings', 'Mumbai Indians', 'Delhi Daredevils',\n",
       "       'Rajasthan Royals', 'Kolkata Knight Riders', 'Delhi Daredevils',\n",
       "       'Rajasthan Royals', 'Kings XI Punjab', 'Delhi Daredevils',\n",
       "       'Kings XI Punjab', 'Deccan Chargers',\n",
       "       'Royal Challengers Bangalore', 'Kolkata Knight Riders',\n",
       "       'Kings XI Punjab', 'Kings XI Punjab', 'Mumbai Indians',\n",
       "       'Rajasthan Royals', 'Chennai Super Kings',\n",
       "       'Rising Pune Supergiant', 'Rajasthan Royals', 'Kings XI Punjab',\n",
       "       'Delhi Daredevils', 'Deccan Chargers', 'Kolkata Knight Riders',\n",
       "       'Mumbai Indians', 'Kolkata Knight Riders', 'Gujarat Lions',\n",
       "       'Mumbai Indians', 'Pune Warriors', 'Kolkata Knight Riders',\n",
       "       'Rajasthan Royals', 'Pune Warriors', 'Kolkata Knight Riders',\n",
       "       'Kings XI Punjab', 'Kolkata Knight Riders', 'Mumbai Indians',\n",
       "       'Mumbai Indians', 'Mumbai Indians', 'Chennai Super Kings',\n",
       "       'Delhi Daredevils', 'Mumbai Indians', 'Deccan Chargers',\n",
       "       'Sunrisers Hyderabad', 'Rising Pune Supergiant',\n",
       "       'Chennai Super Kings', 'Kolkata Knight Riders',\n",
       "       'Kolkata Knight Riders', 'Royal Challengers Bangalore',\n",
       "       'Chennai Super Kings', 'Sunrisers Hyderabad',\n",
       "       'Kolkata Knight Riders', 'Royal Challengers Bangalore',\n",
       "       'Delhi Daredevils', 'Kings XI Punjab',\n",
       "       'Royal Challengers Bangalore', 'Mumbai Indians',\n",
       "       'Sunrisers Hyderabad', 'Rajasthan Royals', 'Kings XI Punjab',\n",
       "       'Kolkata Knight Riders', 'Chennai Super Kings', 'Mumbai Indians',\n",
       "       'Delhi Daredevils', 'Mumbai Indians', 'Mumbai Indians',\n",
       "       'Kolkata Knight Riders', 'Kings XI Punjab', 'Kings XI Punjab',\n",
       "       'Royal Challengers Bangalore', 'Delhi Daredevils',\n",
       "       'Sunrisers Hyderabad', 'Kings XI Punjab', 'Kolkata Knight Riders',\n",
       "       'Royal Challengers Bangalore', 'Kings XI Punjab',\n",
       "       'Sunrisers Hyderabad', 'Kings XI Punjab', 'Delhi Daredevils',\n",
       "       'Gujarat Lions', 'Kolkata Knight Riders', 'Delhi Daredevils',\n",
       "       'Sunrisers Hyderabad', 'Mumbai Indians', 'Sunrisers Hyderabad',\n",
       "       'Kolkata Knight Riders', 'Chennai Super Kings',\n",
       "       'Kolkata Knight Riders', 'Mumbai Indians', 'Mumbai Indians',\n",
       "       'Mumbai Indians', 'Delhi Daredevils', 'Gujarat Lions',\n",
       "       'Rajasthan Royals', 'Rajasthan Royals', 'Rajasthan Royals',\n",
       "       'Kolkata Knight Riders', 'Kings XI Punjab', 'Delhi Daredevils',\n",
       "       'Chennai Super Kings', 'Kings XI Punjab', 'Rajasthan Royals',\n",
       "       'Kolkata Knight Riders', 'Draw', 'Royal Challengers Bangalore',\n",
       "       'Kolkata Knight Riders', 'Kolkata Knight Riders',\n",
       "       'Rajasthan Royals', 'Kings XI Punjab', 'Deccan Chargers',\n",
       "       'Rajasthan Royals', 'Mumbai Indians', 'Rising Pune Supergiants',\n",
       "       'Rajasthan Royals', 'Kolkata Knight Riders', 'Delhi Daredevils',\n",
       "       'Rajasthan Royals', 'Royal Challengers Bangalore',\n",
       "       'Chennai Super Kings', 'Deccan Chargers', 'Deccan Chargers',\n",
       "       'Chennai Super Kings', 'Rising Pune Supergiant',\n",
       "       'Chennai Super Kings', 'Rising Pune Supergiant',\n",
       "       'Royal Challengers Bangalore', 'Deccan Chargers',\n",
       "       'Delhi Daredevils', 'Royal Challengers Bangalore'], dtype=object)"
      ]
     },
     "execution_count": 51,
     "metadata": {},
     "output_type": "execute_result"
    }
   ],
   "source": [
    "model2.predict(x_test)"
   ]
  },
  {
   "cell_type": "code",
   "execution_count": 52,
   "id": "96de5806",
   "metadata": {},
   "outputs": [
    {
     "data": {
      "text/plain": [
       "381          Kolkata Knight Riders\n",
       "488            Sunrisers Hyderabad\n",
       "651                Kings XI Punjab\n",
       "531          Kolkata Knight Riders\n",
       "67                Rajasthan Royals\n",
       "                  ...             \n",
       "615            Sunrisers Hyderabad\n",
       "197               Rajasthan Royals\n",
       "185                Deccan Chargers\n",
       "157               Delhi Daredevils\n",
       "267    Royal Challengers Bangalore\n",
       "Name: winner, Length: 152, dtype: object"
      ]
     },
     "execution_count": 52,
     "metadata": {},
     "output_type": "execute_result"
    }
   ],
   "source": [
    "y_test"
   ]
  },
  {
   "cell_type": "markdown",
   "id": "4d88219a",
   "metadata": {},
   "source": [
    "# Random Forest"
   ]
  },
  {
   "cell_type": "code",
   "execution_count": 53,
   "id": "663c7b7c",
   "metadata": {},
   "outputs": [],
   "source": [
    "from sklearn.ensemble import RandomForestClassifier"
   ]
  },
  {
   "cell_type": "code",
   "execution_count": 54,
   "id": "4bd5467c",
   "metadata": {},
   "outputs": [],
   "source": [
    "model3 = RandomForestClassifier(n_estimators=10)"
   ]
  },
  {
   "cell_type": "code",
   "execution_count": 55,
   "id": "076d0c83",
   "metadata": {},
   "outputs": [
    {
     "data": {
      "text/plain": [
       "RandomForestClassifier(n_estimators=10)"
      ]
     },
     "execution_count": 55,
     "metadata": {},
     "output_type": "execute_result"
    }
   ],
   "source": [
    "model3.fit(x_train, y_train)"
   ]
  },
  {
   "cell_type": "code",
   "execution_count": 56,
   "id": "301d8a19",
   "metadata": {},
   "outputs": [
    {
     "data": {
      "text/plain": [
       "0.5131578947368421"
      ]
     },
     "execution_count": 56,
     "metadata": {},
     "output_type": "execute_result"
    }
   ],
   "source": [
    "model3.score(x_test,y_test)"
   ]
  },
  {
   "cell_type": "code",
   "execution_count": 57,
   "id": "c5db8784",
   "metadata": {},
   "outputs": [
    {
     "data": {
      "text/plain": [
       "'Delhi Capitals'"
      ]
     },
     "execution_count": 57,
     "metadata": {},
     "output_type": "execute_result"
    }
   ],
   "source": [
    "model3.predict([[2,6,32,1,6,0]])[0]"
   ]
  },
  {
   "cell_type": "code",
   "execution_count": 58,
   "id": "faeac771",
   "metadata": {},
   "outputs": [
    {
     "data": {
      "text/plain": [
       "array(['Kolkata Knight Riders', 'Sunrisers Hyderabad',\n",
       "       'Sunrisers Hyderabad', 'Kolkata Knight Riders', 'Rajasthan Royals',\n",
       "       'Royal Challengers Bangalore', 'Sunrisers Hyderabad',\n",
       "       'Delhi Daredevils', 'Kings XI Punjab', 'Deccan Chargers',\n",
       "       'Rajasthan Royals', 'Rajasthan Royals', 'Kolkata Knight Riders',\n",
       "       'Royal Challengers Bangalore', 'Mumbai Indians',\n",
       "       'Chennai Super Kings', 'Deccan Chargers', 'Sunrisers Hyderabad',\n",
       "       'Royal Challengers Bangalore', 'Kolkata Knight Riders',\n",
       "       'Kings XI Punjab', 'Chennai Super Kings', 'Kolkata Knight Riders',\n",
       "       'Sunrisers Hyderabad', 'Deccan Chargers', 'Mumbai Indians',\n",
       "       'Delhi Daredevils', 'Rajasthan Royals', 'Mumbai Indians',\n",
       "       'Delhi Daredevils', 'Rajasthan Royals', 'Kings XI Punjab',\n",
       "       'Delhi Daredevils', 'Kings XI Punjab', 'Rajasthan Royals',\n",
       "       'Royal Challengers Bangalore', 'Rajasthan Royals',\n",
       "       'Chennai Super Kings', 'Kings XI Punjab', 'Mumbai Indians',\n",
       "       'Rajasthan Royals', 'Chennai Super Kings', 'Delhi Daredevils',\n",
       "       'Rajasthan Royals', 'Kings XI Punjab',\n",
       "       'Royal Challengers Bangalore', 'Deccan Chargers',\n",
       "       'Kolkata Knight Riders', 'Mumbai Indians', 'Kolkata Knight Riders',\n",
       "       'Gujarat Lions', 'Mumbai Indians', 'Pune Warriors',\n",
       "       'Kolkata Knight Riders', 'Rajasthan Royals', 'Rajasthan Royals',\n",
       "       'Kolkata Knight Riders', 'Kings XI Punjab',\n",
       "       'Royal Challengers Bangalore', 'Mumbai Indians', 'Mumbai Indians',\n",
       "       'Mumbai Indians', 'Chennai Super Kings', 'Chennai Super Kings',\n",
       "       'Mumbai Indians', 'Chennai Super Kings', 'Sunrisers Hyderabad',\n",
       "       'Pune Warriors', 'Chennai Super Kings', 'Rajasthan Royals',\n",
       "       'Rajasthan Royals', 'Royal Challengers Bangalore',\n",
       "       'Mumbai Indians', 'Sunrisers Hyderabad', 'Kolkata Knight Riders',\n",
       "       'Royal Challengers Bangalore', 'Rajasthan Royals',\n",
       "       'Kings XI Punjab', 'Royal Challengers Bangalore', 'Mumbai Indians',\n",
       "       'Sunrisers Hyderabad', 'Rajasthan Royals', 'Kings XI Punjab',\n",
       "       'Kolkata Knight Riders', 'Chennai Super Kings', 'Mumbai Indians',\n",
       "       'Delhi Daredevils', 'Mumbai Indians', 'Mumbai Indians',\n",
       "       'Kolkata Knight Riders', 'Kings XI Punjab', 'Kings XI Punjab',\n",
       "       'Kolkata Knight Riders', 'Royal Challengers Bangalore',\n",
       "       'Sunrisers Hyderabad', 'Kings XI Punjab', 'Kolkata Knight Riders',\n",
       "       'Royal Challengers Bangalore', 'Kings XI Punjab', 'Mumbai Indians',\n",
       "       'Kings XI Punjab', 'Delhi Daredevils', 'Delhi Daredevils',\n",
       "       'Delhi Daredevils', 'Kings XI Punjab', 'Chennai Super Kings',\n",
       "       'Mumbai Indians', 'Sunrisers Hyderabad', 'Kolkata Knight Riders',\n",
       "       'Kings XI Punjab', 'Kolkata Knight Riders', 'Mumbai Indians',\n",
       "       'Mumbai Indians', 'Rajasthan Royals', 'Delhi Daredevils',\n",
       "       'Mumbai Indians', 'Rajasthan Royals', 'Rajasthan Royals',\n",
       "       'Rajasthan Royals', 'Kolkata Knight Riders', 'Kings XI Punjab',\n",
       "       'Delhi Daredevils', 'Chennai Super Kings', 'Kings XI Punjab',\n",
       "       'Rajasthan Royals', 'Kolkata Knight Riders', 'Delhi Daredevils',\n",
       "       'Kings XI Punjab', 'Kolkata Knight Riders',\n",
       "       'Kolkata Knight Riders', 'Rajasthan Royals', 'Kings XI Punjab',\n",
       "       'Deccan Chargers', 'Rajasthan Royals', 'Mumbai Indians',\n",
       "       'Deccan Chargers', 'Rajasthan Royals', 'Kochi Tuskers Kerala',\n",
       "       'Delhi Daredevils', 'Mumbai Indians', 'Kolkata Knight Riders',\n",
       "       'Chennai Super Kings', 'Chennai Super Kings',\n",
       "       'Chennai Super Kings', 'Chennai Super Kings', 'Mumbai Indians',\n",
       "       'Chennai Super Kings', 'Rajasthan Royals', 'Rajasthan Royals',\n",
       "       'Kings XI Punjab', 'Delhi Daredevils',\n",
       "       'Royal Challengers Bangalore'], dtype=object)"
      ]
     },
     "execution_count": 58,
     "metadata": {},
     "output_type": "execute_result"
    }
   ],
   "source": [
    "model3.predict(x_test)"
   ]
  },
  {
   "cell_type": "code",
   "execution_count": 59,
   "id": "405aaeda",
   "metadata": {},
   "outputs": [
    {
     "data": {
      "text/plain": [
       "381          Kolkata Knight Riders\n",
       "488            Sunrisers Hyderabad\n",
       "651                Kings XI Punjab\n",
       "531          Kolkata Knight Riders\n",
       "67                Rajasthan Royals\n",
       "                  ...             \n",
       "615            Sunrisers Hyderabad\n",
       "197               Rajasthan Royals\n",
       "185                Deccan Chargers\n",
       "157               Delhi Daredevils\n",
       "267    Royal Challengers Bangalore\n",
       "Name: winner, Length: 152, dtype: object"
      ]
     },
     "execution_count": 59,
     "metadata": {},
     "output_type": "execute_result"
    }
   ],
   "source": [
    "y_test"
   ]
  },
  {
   "cell_type": "markdown",
   "id": "2843111e",
   "metadata": {},
   "source": [
    "# SVC "
   ]
  },
  {
   "cell_type": "code",
   "execution_count": 60,
   "id": "7fb3c3f7",
   "metadata": {},
   "outputs": [],
   "source": [
    "from sklearn.svm import SVC"
   ]
  },
  {
   "cell_type": "code",
   "execution_count": 61,
   "id": "ee7323ac",
   "metadata": {},
   "outputs": [],
   "source": [
    "model4=SVC()"
   ]
  },
  {
   "cell_type": "code",
   "execution_count": 62,
   "id": "272f7fe1",
   "metadata": {},
   "outputs": [
    {
     "data": {
      "text/plain": [
       "SVC()"
      ]
     },
     "execution_count": 62,
     "metadata": {},
     "output_type": "execute_result"
    }
   ],
   "source": [
    "model4.fit(x_train, y_train)"
   ]
  },
  {
   "cell_type": "code",
   "execution_count": 63,
   "id": "bc7639c0",
   "metadata": {},
   "outputs": [
    {
     "data": {
      "text/plain": [
       "0.40789473684210525"
      ]
     },
     "execution_count": 63,
     "metadata": {},
     "output_type": "execute_result"
    }
   ],
   "source": [
    "model4.score(x_test,y_test)"
   ]
  },
  {
   "cell_type": "code",
   "execution_count": 64,
   "id": "53dbcfab",
   "metadata": {},
   "outputs": [
    {
     "data": {
      "text/plain": [
       "'Mumbai Indians'"
      ]
     },
     "execution_count": 64,
     "metadata": {},
     "output_type": "execute_result"
    }
   ],
   "source": [
    "model4.predict([[2,6,35,1,2,0]])[0]"
   ]
  },
  {
   "cell_type": "code",
   "execution_count": 65,
   "id": "366d8d34",
   "metadata": {},
   "outputs": [
    {
     "data": {
      "text/plain": [
       "array(['Kolkata Knight Riders', 'Delhi Daredevils', 'Sunrisers Hyderabad',\n",
       "       'Chennai Super Kings', 'Rajasthan Royals', 'Sunrisers Hyderabad',\n",
       "       'Sunrisers Hyderabad', 'Rajasthan Royals', 'Delhi Daredevils',\n",
       "       'Kolkata Knight Riders', 'Kolkata Knight Riders',\n",
       "       'Rajasthan Royals', 'Kolkata Knight Riders', 'Chennai Super Kings',\n",
       "       'Chennai Super Kings', 'Mumbai Indians', 'Kolkata Knight Riders',\n",
       "       'Sunrisers Hyderabad', 'Mumbai Indians', 'Rajasthan Royals',\n",
       "       'Royal Challengers Bangalore', 'Chennai Super Kings',\n",
       "       'Delhi Daredevils', 'Sunrisers Hyderabad', 'Rajasthan Royals',\n",
       "       'Kolkata Knight Riders', 'Royal Challengers Bangalore',\n",
       "       'Rajasthan Royals', 'Delhi Daredevils', 'Delhi Daredevils',\n",
       "       'Rajasthan Royals', 'Chennai Super Kings', 'Mumbai Indians',\n",
       "       'Sunrisers Hyderabad', 'Rajasthan Royals', 'Mumbai Indians',\n",
       "       'Kolkata Knight Riders', 'Delhi Daredevils', 'Kings XI Punjab',\n",
       "       'Mumbai Indians', 'Rajasthan Royals', 'Chennai Super Kings',\n",
       "       'Chennai Super Kings', 'Rajasthan Royals', 'Rajasthan Royals',\n",
       "       'Delhi Daredevils', 'Delhi Daredevils', 'Kolkata Knight Riders',\n",
       "       'Mumbai Indians', 'Kolkata Knight Riders', 'Kolkata Knight Riders',\n",
       "       'Kings XI Punjab', 'Rajasthan Royals', 'Sunrisers Hyderabad',\n",
       "       'Kings XI Punjab', 'Rajasthan Royals', 'Kolkata Knight Riders',\n",
       "       'Chennai Super Kings', 'Rajasthan Royals', 'Mumbai Indians',\n",
       "       'Mumbai Indians', 'Kolkata Knight Riders', 'Chennai Super Kings',\n",
       "       'Rajasthan Royals', 'Royal Challengers Bangalore',\n",
       "       'Kolkata Knight Riders', 'Sunrisers Hyderabad', 'Mumbai Indians',\n",
       "       'Chennai Super Kings', 'Kolkata Knight Riders',\n",
       "       'Kolkata Knight Riders', 'Royal Challengers Bangalore',\n",
       "       'Kolkata Knight Riders', 'Mumbai Indians', 'Kolkata Knight Riders',\n",
       "       'Rajasthan Royals', 'Delhi Daredevils', 'Chennai Super Kings',\n",
       "       'Royal Challengers Bangalore', 'Mumbai Indians',\n",
       "       'Sunrisers Hyderabad', 'Kings XI Punjab', 'Sunrisers Hyderabad',\n",
       "       'Sunrisers Hyderabad', 'Chennai Super Kings',\n",
       "       'Chennai Super Kings', 'Delhi Daredevils', 'Mumbai Indians',\n",
       "       'Mumbai Indians', 'Kolkata Knight Riders', 'Delhi Daredevils',\n",
       "       'Kings XI Punjab', 'Kolkata Knight Riders', 'Delhi Daredevils',\n",
       "       'Chennai Super Kings', 'Mumbai Indians', 'Kolkata Knight Riders',\n",
       "       'Royal Challengers Bangalore', 'Chennai Super Kings',\n",
       "       'Chennai Super Kings', 'Kings XI Punjab', 'Delhi Daredevils',\n",
       "       'Chennai Super Kings', 'Mumbai Indians', 'Delhi Daredevils',\n",
       "       'Chennai Super Kings', 'Rajasthan Royals', 'Delhi Daredevils',\n",
       "       'Chennai Super Kings', 'Chennai Super Kings',\n",
       "       'Kolkata Knight Riders', 'Delhi Daredevils', 'Sunrisers Hyderabad',\n",
       "       'Kolkata Knight Riders', 'Royal Challengers Bangalore',\n",
       "       'Kolkata Knight Riders', 'Rajasthan Royals',\n",
       "       'Kolkata Knight Riders', 'Kolkata Knight Riders', 'Mumbai Indians',\n",
       "       'Chennai Super Kings', 'Mumbai Indians',\n",
       "       'Royal Challengers Bangalore', 'Chennai Super Kings',\n",
       "       'Rajasthan Royals', 'Delhi Daredevils', 'Delhi Daredevils',\n",
       "       'Chennai Super Kings', 'Kolkata Knight Riders',\n",
       "       'Royal Challengers Bangalore', 'Chennai Super Kings',\n",
       "       'Chennai Super Kings', 'Chennai Super Kings', 'Mumbai Indians',\n",
       "       'Chennai Super Kings', 'Kolkata Knight Riders', 'Kings XI Punjab',\n",
       "       'Kolkata Knight Riders', 'Delhi Daredevils', 'Mumbai Indians',\n",
       "       'Kolkata Knight Riders', 'Chennai Super Kings', 'Delhi Daredevils',\n",
       "       'Chennai Super Kings', 'Chennai Super Kings', 'Mumbai Indians',\n",
       "       'Chennai Super Kings', 'Mumbai Indians', 'Kings XI Punjab',\n",
       "       'Delhi Daredevils', 'Chennai Super Kings',\n",
       "       'Royal Challengers Bangalore'], dtype=object)"
      ]
     },
     "execution_count": 65,
     "metadata": {},
     "output_type": "execute_result"
    }
   ],
   "source": [
    "model4.predict(x_test)"
   ]
  },
  {
   "cell_type": "code",
   "execution_count": 66,
   "id": "c015f533",
   "metadata": {},
   "outputs": [
    {
     "data": {
      "text/plain": [
       "381          Kolkata Knight Riders\n",
       "488            Sunrisers Hyderabad\n",
       "651                Kings XI Punjab\n",
       "531          Kolkata Knight Riders\n",
       "67                Rajasthan Royals\n",
       "                  ...             \n",
       "615            Sunrisers Hyderabad\n",
       "197               Rajasthan Royals\n",
       "185                Deccan Chargers\n",
       "157               Delhi Daredevils\n",
       "267    Royal Challengers Bangalore\n",
       "Name: winner, Length: 152, dtype: object"
      ]
     },
     "execution_count": 66,
     "metadata": {},
     "output_type": "execute_result"
    }
   ],
   "source": [
    "y_test"
   ]
  },
  {
   "cell_type": "markdown",
   "id": "1d737c69",
   "metadata": {},
   "source": [
    "# all"
   ]
  },
  {
   "cell_type": "code",
   "execution_count": 67,
   "id": "6ea9a3f8",
   "metadata": {},
   "outputs": [],
   "source": [
    "def get_score(model, x_train, x_test,y_train, y_test):\n",
    "    model.fit(x_train, y_train)\n",
    "    return model.score(x_test, y_test)"
   ]
  },
  {
   "cell_type": "code",
   "execution_count": 68,
   "id": "df4f833f",
   "metadata": {},
   "outputs": [
    {
     "data": {
      "text/plain": [
       "0.25"
      ]
     },
     "execution_count": 68,
     "metadata": {},
     "output_type": "execute_result"
    }
   ],
   "source": [
    "get_score(LogisticRegression(),x_train,x_test,y_train,y_test)"
   ]
  },
  {
   "cell_type": "code",
   "execution_count": 69,
   "id": "2aae2c55",
   "metadata": {},
   "outputs": [
    {
     "data": {
      "text/plain": [
       "0.40789473684210525"
      ]
     },
     "execution_count": 69,
     "metadata": {},
     "output_type": "execute_result"
    }
   ],
   "source": [
    "get_score(SVC(),x_train,x_test,y_train,y_test)"
   ]
  },
  {
   "cell_type": "code",
   "execution_count": 70,
   "id": "a40f7dcb",
   "metadata": {},
   "outputs": [
    {
     "data": {
      "text/plain": [
       "0.5526315789473685"
      ]
     },
     "execution_count": 70,
     "metadata": {},
     "output_type": "execute_result"
    }
   ],
   "source": [
    "get_score(RandomForestClassifier(),x_train,x_test,y_train,y_test)"
   ]
  },
  {
   "cell_type": "markdown",
   "id": "6e3f6679",
   "metadata": {},
   "source": [
    "# cross validation scores"
   ]
  },
  {
   "cell_type": "code",
   "execution_count": 71,
   "id": "ae74726e",
   "metadata": {},
   "outputs": [],
   "source": [
    "from sklearn.model_selection import cross_val_score"
   ]
  },
  {
   "cell_type": "code",
   "execution_count": 72,
   "id": "53603374",
   "metadata": {},
   "outputs": [
    {
     "data": {
      "text/plain": [
       "array([0.23684211, 0.33112583, 0.27152318, 0.28476821, 0.24503311])"
      ]
     },
     "execution_count": 72,
     "metadata": {},
     "output_type": "execute_result"
    }
   ],
   "source": [
    "cross_val_score(LogisticRegression(),x,y)"
   ]
  },
  {
   "cell_type": "code",
   "execution_count": 73,
   "id": "81c93cc6",
   "metadata": {},
   "outputs": [
    {
     "data": {
      "text/plain": [
       "array([0.51973684, 0.47682119, 0.45695364, 0.44370861, 0.48344371])"
      ]
     },
     "execution_count": 73,
     "metadata": {},
     "output_type": "execute_result"
    }
   ],
   "source": [
    "cross_val_score(tree.DecisionTreeClassifier(),x,y)"
   ]
  },
  {
   "cell_type": "code",
   "execution_count": 74,
   "id": "c9eb8491",
   "metadata": {},
   "outputs": [
    {
     "data": {
      "text/plain": [
       "array([0.48684211, 0.49668874, 0.39735099, 0.45033113, 0.51655629])"
      ]
     },
     "execution_count": 74,
     "metadata": {},
     "output_type": "execute_result"
    }
   ],
   "source": [
    "cross_val_score(RandomForestClassifier(n_estimators=10),x,y)"
   ]
  },
  {
   "cell_type": "code",
   "execution_count": 75,
   "id": "fb7f86c3",
   "metadata": {},
   "outputs": [
    {
     "data": {
      "text/plain": [
       "array([0.34210526, 0.37748344, 0.38410596, 0.35099338, 0.41721854])"
      ]
     },
     "execution_count": 75,
     "metadata": {},
     "output_type": "execute_result"
    }
   ],
   "source": [
    "cross_val_score(SVC(),x,y)"
   ]
  },
  {
   "cell_type": "markdown",
   "id": "b4b3d3ba",
   "metadata": {},
   "source": [
    "# predictions through random forest"
   ]
  },
  {
   "cell_type": "code",
   "execution_count": 76,
   "id": "687f5bf1",
   "metadata": {},
   "outputs": [],
   "source": [
    "predict = model3.predict(x_test)"
   ]
  },
  {
   "cell_type": "code",
   "execution_count": 77,
   "id": "00826031",
   "metadata": {},
   "outputs": [
    {
     "data": {
      "text/html": [
       "<div>\n",
       "<style scoped>\n",
       "    .dataframe tbody tr th:only-of-type {\n",
       "        vertical-align: middle;\n",
       "    }\n",
       "\n",
       "    .dataframe tbody tr th {\n",
       "        vertical-align: top;\n",
       "    }\n",
       "\n",
       "    .dataframe thead th {\n",
       "        text-align: right;\n",
       "    }\n",
       "</style>\n",
       "<table border=\"1\" class=\"dataframe\">\n",
       "  <thead>\n",
       "    <tr style=\"text-align: right;\">\n",
       "      <th></th>\n",
       "      <th>Actual</th>\n",
       "      <th>prediction</th>\n",
       "    </tr>\n",
       "  </thead>\n",
       "  <tbody>\n",
       "    <tr>\n",
       "      <th>381</th>\n",
       "      <td>Kolkata Knight Riders</td>\n",
       "      <td>Kolkata Knight Riders</td>\n",
       "    </tr>\n",
       "    <tr>\n",
       "      <th>488</th>\n",
       "      <td>Sunrisers Hyderabad</td>\n",
       "      <td>Sunrisers Hyderabad</td>\n",
       "    </tr>\n",
       "    <tr>\n",
       "      <th>651</th>\n",
       "      <td>Kings XI Punjab</td>\n",
       "      <td>Sunrisers Hyderabad</td>\n",
       "    </tr>\n",
       "    <tr>\n",
       "      <th>531</th>\n",
       "      <td>Kolkata Knight Riders</td>\n",
       "      <td>Kolkata Knight Riders</td>\n",
       "    </tr>\n",
       "    <tr>\n",
       "      <th>67</th>\n",
       "      <td>Rajasthan Royals</td>\n",
       "      <td>Rajasthan Royals</td>\n",
       "    </tr>\n",
       "    <tr>\n",
       "      <th>...</th>\n",
       "      <td>...</td>\n",
       "      <td>...</td>\n",
       "    </tr>\n",
       "    <tr>\n",
       "      <th>615</th>\n",
       "      <td>Sunrisers Hyderabad</td>\n",
       "      <td>Rajasthan Royals</td>\n",
       "    </tr>\n",
       "    <tr>\n",
       "      <th>197</th>\n",
       "      <td>Rajasthan Royals</td>\n",
       "      <td>Rajasthan Royals</td>\n",
       "    </tr>\n",
       "    <tr>\n",
       "      <th>185</th>\n",
       "      <td>Deccan Chargers</td>\n",
       "      <td>Kings XI Punjab</td>\n",
       "    </tr>\n",
       "    <tr>\n",
       "      <th>157</th>\n",
       "      <td>Delhi Daredevils</td>\n",
       "      <td>Delhi Daredevils</td>\n",
       "    </tr>\n",
       "    <tr>\n",
       "      <th>267</th>\n",
       "      <td>Royal Challengers Bangalore</td>\n",
       "      <td>Royal Challengers Bangalore</td>\n",
       "    </tr>\n",
       "  </tbody>\n",
       "</table>\n",
       "<p>152 rows × 2 columns</p>\n",
       "</div>"
      ],
      "text/plain": [
       "                          Actual                   prediction\n",
       "381        Kolkata Knight Riders        Kolkata Knight Riders\n",
       "488          Sunrisers Hyderabad          Sunrisers Hyderabad\n",
       "651              Kings XI Punjab          Sunrisers Hyderabad\n",
       "531        Kolkata Knight Riders        Kolkata Knight Riders\n",
       "67              Rajasthan Royals             Rajasthan Royals\n",
       "..                           ...                          ...\n",
       "615          Sunrisers Hyderabad             Rajasthan Royals\n",
       "197             Rajasthan Royals             Rajasthan Royals\n",
       "185              Deccan Chargers              Kings XI Punjab\n",
       "157             Delhi Daredevils             Delhi Daredevils\n",
       "267  Royal Challengers Bangalore  Royal Challengers Bangalore\n",
       "\n",
       "[152 rows x 2 columns]"
      ]
     },
     "execution_count": 77,
     "metadata": {},
     "output_type": "execute_result"
    }
   ],
   "source": [
    "df=pd.DataFrame({'Actual':y_test,'prediction':predict})\n",
    "df"
   ]
  },
  {
   "cell_type": "markdown",
   "id": "73e842dc",
   "metadata": {},
   "source": [
    "# predictions through SVC"
   ]
  },
  {
   "cell_type": "code",
   "execution_count": 78,
   "id": "6ad494ad",
   "metadata": {},
   "outputs": [],
   "source": [
    "predict = model4.predict(x_test)"
   ]
  },
  {
   "cell_type": "code",
   "execution_count": 79,
   "id": "263505c9",
   "metadata": {},
   "outputs": [
    {
     "data": {
      "text/html": [
       "<div>\n",
       "<style scoped>\n",
       "    .dataframe tbody tr th:only-of-type {\n",
       "        vertical-align: middle;\n",
       "    }\n",
       "\n",
       "    .dataframe tbody tr th {\n",
       "        vertical-align: top;\n",
       "    }\n",
       "\n",
       "    .dataframe thead th {\n",
       "        text-align: right;\n",
       "    }\n",
       "</style>\n",
       "<table border=\"1\" class=\"dataframe\">\n",
       "  <thead>\n",
       "    <tr style=\"text-align: right;\">\n",
       "      <th></th>\n",
       "      <th>Actual</th>\n",
       "      <th>prediction</th>\n",
       "    </tr>\n",
       "  </thead>\n",
       "  <tbody>\n",
       "    <tr>\n",
       "      <th>381</th>\n",
       "      <td>Kolkata Knight Riders</td>\n",
       "      <td>Kolkata Knight Riders</td>\n",
       "    </tr>\n",
       "    <tr>\n",
       "      <th>488</th>\n",
       "      <td>Sunrisers Hyderabad</td>\n",
       "      <td>Delhi Daredevils</td>\n",
       "    </tr>\n",
       "    <tr>\n",
       "      <th>651</th>\n",
       "      <td>Kings XI Punjab</td>\n",
       "      <td>Sunrisers Hyderabad</td>\n",
       "    </tr>\n",
       "    <tr>\n",
       "      <th>531</th>\n",
       "      <td>Kolkata Knight Riders</td>\n",
       "      <td>Chennai Super Kings</td>\n",
       "    </tr>\n",
       "    <tr>\n",
       "      <th>67</th>\n",
       "      <td>Rajasthan Royals</td>\n",
       "      <td>Rajasthan Royals</td>\n",
       "    </tr>\n",
       "    <tr>\n",
       "      <th>...</th>\n",
       "      <td>...</td>\n",
       "      <td>...</td>\n",
       "    </tr>\n",
       "    <tr>\n",
       "      <th>615</th>\n",
       "      <td>Sunrisers Hyderabad</td>\n",
       "      <td>Mumbai Indians</td>\n",
       "    </tr>\n",
       "    <tr>\n",
       "      <th>197</th>\n",
       "      <td>Rajasthan Royals</td>\n",
       "      <td>Kings XI Punjab</td>\n",
       "    </tr>\n",
       "    <tr>\n",
       "      <th>185</th>\n",
       "      <td>Deccan Chargers</td>\n",
       "      <td>Delhi Daredevils</td>\n",
       "    </tr>\n",
       "    <tr>\n",
       "      <th>157</th>\n",
       "      <td>Delhi Daredevils</td>\n",
       "      <td>Chennai Super Kings</td>\n",
       "    </tr>\n",
       "    <tr>\n",
       "      <th>267</th>\n",
       "      <td>Royal Challengers Bangalore</td>\n",
       "      <td>Royal Challengers Bangalore</td>\n",
       "    </tr>\n",
       "  </tbody>\n",
       "</table>\n",
       "<p>152 rows × 2 columns</p>\n",
       "</div>"
      ],
      "text/plain": [
       "                          Actual                   prediction\n",
       "381        Kolkata Knight Riders        Kolkata Knight Riders\n",
       "488          Sunrisers Hyderabad             Delhi Daredevils\n",
       "651              Kings XI Punjab          Sunrisers Hyderabad\n",
       "531        Kolkata Knight Riders          Chennai Super Kings\n",
       "67              Rajasthan Royals             Rajasthan Royals\n",
       "..                           ...                          ...\n",
       "615          Sunrisers Hyderabad               Mumbai Indians\n",
       "197             Rajasthan Royals              Kings XI Punjab\n",
       "185              Deccan Chargers             Delhi Daredevils\n",
       "157             Delhi Daredevils          Chennai Super Kings\n",
       "267  Royal Challengers Bangalore  Royal Challengers Bangalore\n",
       "\n",
       "[152 rows x 2 columns]"
      ]
     },
     "execution_count": 79,
     "metadata": {},
     "output_type": "execute_result"
    }
   ],
   "source": [
    "df=pd.DataFrame({'Actual':y_test,'prediction':predict})\n",
    "df"
   ]
  },
  {
   "cell_type": "markdown",
   "id": "a1fbc468",
   "metadata": {},
   "source": [
    "# predictions through decision tree"
   ]
  },
  {
   "cell_type": "code",
   "execution_count": 80,
   "id": "641a38e7",
   "metadata": {},
   "outputs": [],
   "source": [
    "predict = model2.predict(x_test)"
   ]
  },
  {
   "cell_type": "code",
   "execution_count": 81,
   "id": "e0172097",
   "metadata": {},
   "outputs": [
    {
     "data": {
      "text/html": [
       "<div>\n",
       "<style scoped>\n",
       "    .dataframe tbody tr th:only-of-type {\n",
       "        vertical-align: middle;\n",
       "    }\n",
       "\n",
       "    .dataframe tbody tr th {\n",
       "        vertical-align: top;\n",
       "    }\n",
       "\n",
       "    .dataframe thead th {\n",
       "        text-align: right;\n",
       "    }\n",
       "</style>\n",
       "<table border=\"1\" class=\"dataframe\">\n",
       "  <thead>\n",
       "    <tr style=\"text-align: right;\">\n",
       "      <th></th>\n",
       "      <th>Actual</th>\n",
       "      <th>prediction</th>\n",
       "    </tr>\n",
       "  </thead>\n",
       "  <tbody>\n",
       "    <tr>\n",
       "      <th>381</th>\n",
       "      <td>Kolkata Knight Riders</td>\n",
       "      <td>Kolkata Knight Riders</td>\n",
       "    </tr>\n",
       "    <tr>\n",
       "      <th>488</th>\n",
       "      <td>Sunrisers Hyderabad</td>\n",
       "      <td>Sunrisers Hyderabad</td>\n",
       "    </tr>\n",
       "    <tr>\n",
       "      <th>651</th>\n",
       "      <td>Kings XI Punjab</td>\n",
       "      <td>Sunrisers Hyderabad</td>\n",
       "    </tr>\n",
       "    <tr>\n",
       "      <th>531</th>\n",
       "      <td>Kolkata Knight Riders</td>\n",
       "      <td>Kolkata Knight Riders</td>\n",
       "    </tr>\n",
       "    <tr>\n",
       "      <th>67</th>\n",
       "      <td>Rajasthan Royals</td>\n",
       "      <td>Rajasthan Royals</td>\n",
       "    </tr>\n",
       "    <tr>\n",
       "      <th>...</th>\n",
       "      <td>...</td>\n",
       "      <td>...</td>\n",
       "    </tr>\n",
       "    <tr>\n",
       "      <th>615</th>\n",
       "      <td>Sunrisers Hyderabad</td>\n",
       "      <td>Rising Pune Supergiant</td>\n",
       "    </tr>\n",
       "    <tr>\n",
       "      <th>197</th>\n",
       "      <td>Rajasthan Royals</td>\n",
       "      <td>Royal Challengers Bangalore</td>\n",
       "    </tr>\n",
       "    <tr>\n",
       "      <th>185</th>\n",
       "      <td>Deccan Chargers</td>\n",
       "      <td>Deccan Chargers</td>\n",
       "    </tr>\n",
       "    <tr>\n",
       "      <th>157</th>\n",
       "      <td>Delhi Daredevils</td>\n",
       "      <td>Delhi Daredevils</td>\n",
       "    </tr>\n",
       "    <tr>\n",
       "      <th>267</th>\n",
       "      <td>Royal Challengers Bangalore</td>\n",
       "      <td>Royal Challengers Bangalore</td>\n",
       "    </tr>\n",
       "  </tbody>\n",
       "</table>\n",
       "<p>152 rows × 2 columns</p>\n",
       "</div>"
      ],
      "text/plain": [
       "                          Actual                   prediction\n",
       "381        Kolkata Knight Riders        Kolkata Knight Riders\n",
       "488          Sunrisers Hyderabad          Sunrisers Hyderabad\n",
       "651              Kings XI Punjab          Sunrisers Hyderabad\n",
       "531        Kolkata Knight Riders        Kolkata Knight Riders\n",
       "67              Rajasthan Royals             Rajasthan Royals\n",
       "..                           ...                          ...\n",
       "615          Sunrisers Hyderabad       Rising Pune Supergiant\n",
       "197             Rajasthan Royals  Royal Challengers Bangalore\n",
       "185              Deccan Chargers              Deccan Chargers\n",
       "157             Delhi Daredevils             Delhi Daredevils\n",
       "267  Royal Challengers Bangalore  Royal Challengers Bangalore\n",
       "\n",
       "[152 rows x 2 columns]"
      ]
     },
     "execution_count": 81,
     "metadata": {},
     "output_type": "execute_result"
    }
   ],
   "source": [
    "df=pd.DataFrame({'Actual':y_test,'prediction':predict})\n",
    "df"
   ]
  },
  {
   "cell_type": "markdown",
   "id": "780484ab",
   "metadata": {},
   "source": [
    "# predictions through LogisticRegression"
   ]
  },
  {
   "cell_type": "code",
   "execution_count": 82,
   "id": "3cd37934",
   "metadata": {},
   "outputs": [],
   "source": [
    "predict = model.predict(x_test)"
   ]
  },
  {
   "cell_type": "code",
   "execution_count": 83,
   "id": "d156a611",
   "metadata": {},
   "outputs": [
    {
     "data": {
      "text/html": [
       "<div>\n",
       "<style scoped>\n",
       "    .dataframe tbody tr th:only-of-type {\n",
       "        vertical-align: middle;\n",
       "    }\n",
       "\n",
       "    .dataframe tbody tr th {\n",
       "        vertical-align: top;\n",
       "    }\n",
       "\n",
       "    .dataframe thead th {\n",
       "        text-align: right;\n",
       "    }\n",
       "</style>\n",
       "<table border=\"1\" class=\"dataframe\">\n",
       "  <thead>\n",
       "    <tr style=\"text-align: right;\">\n",
       "      <th></th>\n",
       "      <th>Actual</th>\n",
       "      <th>prediction</th>\n",
       "    </tr>\n",
       "  </thead>\n",
       "  <tbody>\n",
       "    <tr>\n",
       "      <th>381</th>\n",
       "      <td>Kolkata Knight Riders</td>\n",
       "      <td>Kolkata Knight Riders</td>\n",
       "    </tr>\n",
       "    <tr>\n",
       "      <th>488</th>\n",
       "      <td>Sunrisers Hyderabad</td>\n",
       "      <td>Kolkata Knight Riders</td>\n",
       "    </tr>\n",
       "    <tr>\n",
       "      <th>651</th>\n",
       "      <td>Kings XI Punjab</td>\n",
       "      <td>Mumbai Indians</td>\n",
       "    </tr>\n",
       "    <tr>\n",
       "      <th>531</th>\n",
       "      <td>Kolkata Knight Riders</td>\n",
       "      <td>Kolkata Knight Riders</td>\n",
       "    </tr>\n",
       "    <tr>\n",
       "      <th>67</th>\n",
       "      <td>Rajasthan Royals</td>\n",
       "      <td>Kings XI Punjab</td>\n",
       "    </tr>\n",
       "    <tr>\n",
       "      <th>...</th>\n",
       "      <td>...</td>\n",
       "      <td>...</td>\n",
       "    </tr>\n",
       "    <tr>\n",
       "      <th>615</th>\n",
       "      <td>Sunrisers Hyderabad</td>\n",
       "      <td>Kolkata Knight Riders</td>\n",
       "    </tr>\n",
       "    <tr>\n",
       "      <th>197</th>\n",
       "      <td>Rajasthan Royals</td>\n",
       "      <td>Chennai Super Kings</td>\n",
       "    </tr>\n",
       "    <tr>\n",
       "      <th>185</th>\n",
       "      <td>Deccan Chargers</td>\n",
       "      <td>Kings XI Punjab</td>\n",
       "    </tr>\n",
       "    <tr>\n",
       "      <th>157</th>\n",
       "      <td>Delhi Daredevils</td>\n",
       "      <td>Chennai Super Kings</td>\n",
       "    </tr>\n",
       "    <tr>\n",
       "      <th>267</th>\n",
       "      <td>Royal Challengers Bangalore</td>\n",
       "      <td>Draw</td>\n",
       "    </tr>\n",
       "  </tbody>\n",
       "</table>\n",
       "<p>152 rows × 2 columns</p>\n",
       "</div>"
      ],
      "text/plain": [
       "                          Actual             prediction\n",
       "381        Kolkata Knight Riders  Kolkata Knight Riders\n",
       "488          Sunrisers Hyderabad  Kolkata Knight Riders\n",
       "651              Kings XI Punjab         Mumbai Indians\n",
       "531        Kolkata Knight Riders  Kolkata Knight Riders\n",
       "67              Rajasthan Royals        Kings XI Punjab\n",
       "..                           ...                    ...\n",
       "615          Sunrisers Hyderabad  Kolkata Knight Riders\n",
       "197             Rajasthan Royals    Chennai Super Kings\n",
       "185              Deccan Chargers        Kings XI Punjab\n",
       "157             Delhi Daredevils    Chennai Super Kings\n",
       "267  Royal Challengers Bangalore                   Draw\n",
       "\n",
       "[152 rows x 2 columns]"
      ]
     },
     "execution_count": 83,
     "metadata": {},
     "output_type": "execute_result"
    }
   ],
   "source": [
    "df=pd.DataFrame({'Actual':y_test,'prediction':predict})\n",
    "df"
   ]
  },
  {
   "cell_type": "code",
   "execution_count": 84,
   "id": "f9ab682d",
   "metadata": {},
   "outputs": [
    {
     "data": {
      "text/plain": [
       "'Kolkata Knight Riders'"
      ]
     },
     "execution_count": 84,
     "metadata": {},
     "output_type": "execute_result"
    }
   ],
   "source": [
    "model.predict([[2,6,32,1,6,0]])[0]"
   ]
  },
  {
   "cell_type": "code",
   "execution_count": 85,
   "id": "5e3ed46f",
   "metadata": {},
   "outputs": [
    {
     "data": {
      "text/plain": [
       "'Delhi Capitals'"
      ]
     },
     "execution_count": 85,
     "metadata": {},
     "output_type": "execute_result"
    }
   ],
   "source": [
    "model2.predict([[2,6,32,1,6,0]])[0]"
   ]
  },
  {
   "cell_type": "code",
   "execution_count": 86,
   "id": "c7751798",
   "metadata": {},
   "outputs": [
    {
     "data": {
      "text/plain": [
       "'Delhi Capitals'"
      ]
     },
     "execution_count": 86,
     "metadata": {},
     "output_type": "execute_result"
    }
   ],
   "source": [
    "model3.predict([[2,6,32,1,6,0]])[0]"
   ]
  },
  {
   "cell_type": "code",
   "execution_count": 87,
   "id": "27030ae3",
   "metadata": {},
   "outputs": [
    {
     "data": {
      "text/plain": [
       "'Mumbai Indians'"
      ]
     },
     "execution_count": 87,
     "metadata": {},
     "output_type": "execute_result"
    }
   ],
   "source": [
    "model4.predict([[2,6,32,1,6,0]])[0]"
   ]
  },
  {
   "cell_type": "code",
   "execution_count": null,
   "id": "bb2cabeb",
   "metadata": {},
   "outputs": [],
   "source": []
  }
 ],
 "metadata": {
  "kernelspec": {
   "display_name": "Python 3",
   "language": "python",
   "name": "python3"
  },
  "language_info": {
   "codemirror_mode": {
    "name": "ipython",
    "version": 3
   },
   "file_extension": ".py",
   "mimetype": "text/x-python",
   "name": "python",
   "nbconvert_exporter": "python",
   "pygments_lexer": "ipython3",
   "version": "3.9.5"
  }
 },
 "nbformat": 4,
 "nbformat_minor": 5
}
